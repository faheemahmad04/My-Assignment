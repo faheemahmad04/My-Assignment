{
 "cells": [
  {
   "cell_type": "markdown",
   "id": "ef2b8647-8cff-42ea-acbc-d1bfead12e14",
   "metadata": {},
   "source": [
    "14 Feb Assignment-14\n",
    "\n",
    "Only Answers are written:---"
   ]
  },
  {
   "cell_type": "markdown",
   "id": "c76c3967-04c1-414e-9857-29cb13ac37f9",
   "metadata": {},
   "source": [
    "Ans:1\n",
    "\n",
    "Multi-threading is a technique which allows a CPU to execute multiple threads of one process at the same time. It used to achieve multitasking, which means running multiple tasks at the same time. Threading module is used to handle threads."
   ]
  },
  {
   "cell_type": "markdown",
   "id": "6ca9c448-b72b-4bf5-a8e7-a417ff47bfaf",
   "metadata": {},
   "source": [
    "Ans:2\n",
    "\n",
    "Thraeding module is used to create and manage the threads.\n",
    "\n",
    "activeCount() :- It is used to return the number of active threads in the current thread's group.\n",
    "\n",
    "currentThread() :- It is used to return the current thread object, which corresponds to the caller's thread of control. This means that it return the thread that is executing the code where this method is called.\n",
    "\n",
    "enumerate() :- It is used to return a list of all thread objects that are currently alive. The list includes the daemonic thread, the main thread and the dummy thread objects created by currentThread()."
   ]
  },
  {
   "cell_type": "markdown",
   "id": "76e0bc46-a3e9-4518-b859-bb6c20e5de2e",
   "metadata": {},
   "source": [
    "Ans:3\n",
    "\n",
    "run() :- It is the method that represents the activity of thread. It is invoked by the start() function of thread class, it calls the function passed as the target argument in the thread constructor, along with the arguments passed as args and kwargs.\n",
    "\n",
    "start() :- It is the method that starts a new thread. It is invoked on a thread object, and it calls the run() method of the thread class, which in turn call the target function.\n",
    "\n",
    "join() :- It is the method that ensures the main thread does not exit until all the child threads are done.\n",
    "\n",
    "isAlive() :- It is the method that checks whether the thread is alive or not. It returns True before the run() method starts, until just after the run() method is executed."
   ]
  },
  {
   "cell_type": "code",
   "execution_count": 1,
   "id": "4e7c153a-4f03-4e8c-9aa5-2f2415a16458",
   "metadata": {},
   "outputs": [],
   "source": [
    "# Ans:4\n",
    "\n",
    "import threading\n",
    "import time"
   ]
  },
  {
   "cell_type": "code",
   "execution_count": 13,
   "id": "20cc31dc-3877-441f-acb4-a6c98e68a19b",
   "metadata": {},
   "outputs": [
    {
     "name": "stdout",
     "output_type": "stream",
     "text": [
      "1 square is  1\n",
      "1 cube is  1\n",
      "2 square is  4\n",
      "2 cube is  8\n",
      "3 square is  9\n",
      "3 cube is  27\n",
      "4 square is  16\n",
      "4 cube is  64\n",
      "5 square is  25\n",
      "5 cube is  125\n"
     ]
    }
   ],
   "source": [
    "def squares(n):\n",
    "    for i in range(1, n+1):\n",
    "        print(i, \"square is \", i**2)\n",
    "        time.sleep(2)\n",
    "        \n",
    "def cubes(n):\n",
    "    for i in range(1, n+1):\n",
    "        print(i, \"cube is \", i**3)\n",
    "        time.sleep(2)\n",
    "        \n",
    "s = threading.Thread(target = squares, args = (5,))\n",
    "c = threading.Thread(target = cubes, args = (5,))\n",
    "\n",
    "s.start()\n",
    "c.start()"
   ]
  },
  {
   "cell_type": "markdown",
   "id": "3cbe2f13-3896-42c1-ac2a-c2ccb3fb57d1",
   "metadata": {},
   "source": [
    "Ans:5\n",
    "\n",
    "Advantages:---\n",
    "\n",
    "It does not block the user, this is because threads are independent of each other.\n",
    "\n",
    "Better use of system resources is possible since threads execute tasks parallely.\n",
    "\n",
    "It enhanced perfomance on multi-processor machines.\n",
    "\n",
    "\n",
    "\n",
    "Disadvantages:---\n",
    "\n",
    "It is difficult to debug, that is why the result is sometimes unpredictable.\n",
    "\n",
    "As the number of threads increases, complexity increases.\n",
    "\n",
    "It directly leads to the more memory and CPU utilization."
   ]
  },
  {
   "cell_type": "markdown",
   "id": "cadc5c1e-22b4-4cbf-a531-fe8cfc6653a8",
   "metadata": {},
   "source": [
    "Ans:6\n",
    "\n",
    "Deadlocks and race conditions are the two type of problems that can occur in multi-threading programs. \n",
    "\n",
    "A Deadlock happens when two or more threads are waiting for each other to release a lock that they need to continue their execution.\n",
    "\n",
    "A Race condition happens when two or more threads try to access and modify a shared variable at the same time."
   ]
  },
  {
   "cell_type": "code",
   "execution_count": null,
   "id": "0d4f2cb4-4b80-4f47-b587-2a18a1c1b5d3",
   "metadata": {},
   "outputs": [],
   "source": []
  }
 ],
 "metadata": {
  "kernelspec": {
   "display_name": "Python 3 (ipykernel)",
   "language": "python",
   "name": "python3"
  },
  "language_info": {
   "codemirror_mode": {
    "name": "ipython",
    "version": 3
   },
   "file_extension": ".py",
   "mimetype": "text/x-python",
   "name": "python",
   "nbconvert_exporter": "python",
   "pygments_lexer": "ipython3",
   "version": "3.10.8"
  }
 },
 "nbformat": 4,
 "nbformat_minor": 5
}
