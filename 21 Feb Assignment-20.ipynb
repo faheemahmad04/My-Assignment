{
 "cells": [
  {
   "cell_type": "markdown",
   "id": "6e2af71c-c55c-412b-887a-55d9e8cdf1da",
   "metadata": {},
   "source": [
    "21 Feb Assignment-20\n",
    "\n",
    "Both Questions and Answers are written:---"
   ]
  },
  {
   "cell_type": "markdown",
   "id": "b97089cf-750c-4da8-a2c0-491f17e6bec1",
   "metadata": {},
   "source": [
    "Q1. What is Web Scraping? Why is it Used? Give three areas where Web Scraping is used to get data."
   ]
  },
  {
   "cell_type": "markdown",
   "id": "54faa1a6-7456-4266-be81-c001a1f4afc6",
   "metadata": {},
   "source": [
    "Ans:- Web scraping, also known as data scraping, is a technique used to extract data from websites. It involves the use of software to automatically collect and save data from the internet in a local file. The collected data can then be analyzed and manipulated as required.\n",
    "\n",
    "It is used to extract large amounts of data from websites quickly and efficiently. The extracted data is usually unstructured and in HTML format, which is then converted into structured data in a spreadsheet or database.\n",
    "\n",
    "The most common use cases of web scraping:---\n",
    "\n",
    "1.) Data Analytics & Data Science\n",
    "\n",
    "2.) Machine Learning\n",
    "\n",
    "3.) Marketing & Sales"
   ]
  },
  {
   "cell_type": "markdown",
   "id": "e4bb30af-313a-4423-9c13-0f674fadf37d",
   "metadata": {},
   "source": [
    "Q2. What are the different methods used for Web Scraping?"
   ]
  },
  {
   "cell_type": "markdown",
   "id": "3e30939b-7b25-462a-a084-431f9671af07",
   "metadata": {},
   "source": [
    "Ans:- The different methods used for Web Scraping are:---\n",
    "\n",
    "Self-Built:- It requires advanced knowledge of programming language.\n",
    "\n",
    "Pre-Built:- These are previously created scrapers that we can download and run easily.\n",
    "\n",
    "Browser Extension:- These are easy to run as they are integrated with our browser, but at the same time, they are also limited because of this. Any advance features that are outside the scope of our browser are impossible to run on this Web Scraping.\n",
    "\n",
    "Software:- It doesn't have those limitations as in browser extension, as they can be downloaded and installed on our computer. These are more complex than Browser Extension.\n",
    "\n",
    "Cloud:- It runs on the cloud, which is an off-site server mostly provided by the companies itself.\n",
    "\n",
    "Local:- It runs in our local system using resources. If the web scraping requires more CPU or RAM, then our computer become slow and not be able to perform other tasks."
   ]
  },
  {
   "cell_type": "markdown",
   "id": "890eaebd-ea73-4a7a-838f-d92c7ccb0a68",
   "metadata": {},
   "source": [
    "Q3. What is Beautiful Soup? Why is it used?"
   ]
  },
  {
   "cell_type": "markdown",
   "id": "5dbe39db-848c-4ea8-94d5-595b3e9203cf",
   "metadata": {},
   "source": [
    "Ans:- It is a python library that is highly suitable for web scraping. It creates a parse tree that can be used to extract data from HTML on a websites. It has multiple features for nevigation, searching and modififying these parse trees. It can also be used to extract data from websites that do not have APIs or other structured data formats available."
   ]
  },
  {
   "cell_type": "markdown",
   "id": "99b44e52-8aa6-4540-bf89-343342852a80",
   "metadata": {},
   "source": [
    "Q4. Why is flask used in this Web Scraping project?"
   ]
  },
  {
   "cell_type": "markdown",
   "id": "70177272-840d-4f16-9ff6-799ee87b3712",
   "metadata": {},
   "source": [
    "Ans:- Flask is a lightweight Python web framework that is used to build web applications. It is a popular choice for web scraping projects because it provides a simple and easy-to-use interface for building web applications. This makes it easy to visualize and analyze the data that has been scraped from websites. The application can be used to display the scraped data in a structured format, such as a table or graph."
   ]
  },
  {
   "cell_type": "markdown",
   "id": "aea1f077-723c-4670-b86e-2b6087f0dfe5",
   "metadata": {},
   "source": [
    "Q5. Write the names of AWS services used in this project. Also, explain the use of each service."
   ]
  },
  {
   "cell_type": "markdown",
   "id": "bca8c210-7f89-4e59-8d85-7b6d20450c80",
   "metadata": {},
   "source": [
    "Ans:- There are many AWS services that can be used in a web scraping project:-\n",
    "\n",
    "AWS Lambda\n",
    "\n",
    "Amazon EC2\n",
    "\n",
    "Amazon S3\n",
    "\n",
    "Amazon RDS\n",
    "\n",
    "Amazon DynamoDB\n",
    "\n",
    "Amazon CloudWatch"
   ]
  },
  {
   "cell_type": "code",
   "execution_count": null,
   "id": "1234da12-1f61-41b8-863e-3bdc7a41e9db",
   "metadata": {},
   "outputs": [],
   "source": []
  }
 ],
 "metadata": {
  "kernelspec": {
   "display_name": "Python 3 (ipykernel)",
   "language": "python",
   "name": "python3"
  },
  "language_info": {
   "codemirror_mode": {
    "name": "ipython",
    "version": 3
   },
   "file_extension": ".py",
   "mimetype": "text/x-python",
   "name": "python",
   "nbconvert_exporter": "python",
   "pygments_lexer": "ipython3",
   "version": "3.10.8"
  }
 },
 "nbformat": 4,
 "nbformat_minor": 5
}
