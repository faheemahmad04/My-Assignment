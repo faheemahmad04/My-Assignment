{
 "cells": [
  {
   "cell_type": "markdown",
   "id": "51eb229f-d8fa-42be-bfc8-c0433e06f9c6",
   "metadata": {},
   "source": [
    "10 Feb Assignment-11\n",
    "\n",
    "Only Answers are written:---"
   ]
  },
  {
   "cell_type": "markdown",
   "id": "8b93269e-8f3e-44ee-ac43-bb7b28d54a19",
   "metadata": {},
   "source": [
    " Ans:1"
   ]
  },
  {
   "cell_type": "markdown",
   "id": "d2bed031-c451-4cb5-91e0-f19c29a83dbd",
   "metadata": {},
   "source": [
    "open() is the function which is used to open a file. \n",
    "\n",
    "It has 4 different modes for opening a file:---\n",
    "\n",
    "1- r = read - Default Value. Opens a file for reading, error if the file does not exist.\n",
    "\n",
    "2- w = write - Opens a file for writing, creates the file if it does not exist.\n",
    "\n",
    "3- a = append - Opens a file for appending, creates the file if it does not exist.\n",
    "\n",
    "4- x = create - Creates the specified file, returns an error if the file exists."
   ]
  },
  {
   "cell_type": "markdown",
   "id": "0a57925c-f3bf-45a3-af20-c653b7994c91",
   "metadata": {},
   "source": [
    "Ans:2\n",
    "\n",
    "The close() function is used to close an opened file. We should have always close the opened file as our work is done, in some cases, changes made to a file may not show until we close the file.\n",
    "\n",
    "Closing a file flushes any unwritten information and ensures that the changes made to the file are saved properly."
   ]
  },
  {
   "cell_type": "code",
   "execution_count": 2,
   "id": "c7200d81-7616-49c1-a630-31b2309b7529",
   "metadata": {},
   "outputs": [
    {
     "name": "stdout",
     "output_type": "stream",
     "text": [
      "written successfully\n"
     ]
    }
   ],
   "source": [
    "# Ans:3\n",
    "\n",
    "file = open(\"Text_File.txt\", 'w')\n",
    "file.write(\"I want to become a Data Scientist.\")\n",
    "print('written successfully')\n",
    "           \n",
    "file.close()"
   ]
  },
  {
   "cell_type": "code",
   "execution_count": 4,
   "id": "689f829f-eac5-4f7a-89d0-2d25e6f6536e",
   "metadata": {},
   "outputs": [
    {
     "name": "stdout",
     "output_type": "stream",
     "text": [
      "I want to become a Data Scientist.\n"
     ]
    }
   ],
   "source": [
    "file = open(\"Text_File.txt\", 'r')\n",
    "content = file.read()\n",
    "print(content)\n",
    "\n",
    "file.close()"
   ]
  },
  {
   "cell_type": "markdown",
   "id": "61ee12c4-82bc-4cca-accf-112162744f44",
   "metadata": {},
   "source": [
    "Ans:4\n",
    "\n",
    "READ:- By default, the read() method returns the whole text written in the file, but we can also specify how many characters we want to return by putting number(wtarts from first character) between parenthesis of read() method.\n",
    "\n",
    "READLINE:- The readline() method returns the first line of file.\n",
    "\n",
    "READLINES:- The readlines() method returns all the lines of the file in the form of list."
   ]
  },
  {
   "cell_type": "markdown",
   "id": "7b55b2e6-5e8b-4137-a348-7f6430634622",
   "metadata": {},
   "source": [
    "Ans:5\n",
    "\n",
    "It simplify the management of file streams. It allows us to automatically close the file after we’ve processed it, without needing to explicitly call the close() method. It makes the code more tidy, safe and efficient."
   ]
  },
  {
   "cell_type": "markdown",
   "id": "f12ca245-3543-4e58-a687-538fd5ce905b",
   "metadata": {},
   "source": [
    "Ans:6\n",
    "\n",
    "The write() and writelines() functions are file object methods that allow us to write data to a file.\n",
    "\n",
    "The write() function is used to write a single string to the file.\n",
    "\n",
    "The writelines() function is used to write a list of strings to the file."
   ]
  },
  {
   "cell_type": "code",
   "execution_count": 3,
   "id": "8631c529-c00f-4d65-a2cb-4f1be8804be8",
   "metadata": {},
   "outputs": [],
   "source": [
    "# Ans:6\n",
    "# Example:---\n",
    "\n",
    "with open(\"Example.txt\", 'w') as f:\n",
    "    f.write(\"This is the single line string.\\n\")\n",
    "    \n",
    "    lines = [\"This is the first line.\\n\", \"This is the second line.\\n\", \"This is the third line.\\n\", \"This is the fourth line.\\n\"]\n",
    "    f.writelines(lines)\n",
    "\n",
    "f.close()"
   ]
  },
  {
   "cell_type": "code",
   "execution_count": 4,
   "id": "7a06c72c-ea18-4a98-8ade-bf1a9b27b4ba",
   "metadata": {},
   "outputs": [
    {
     "name": "stdout",
     "output_type": "stream",
     "text": [
      "This is the single line string.\n",
      "This is the first line.\n",
      "This is the second line.\n",
      "This is the third line.\n",
      "This is the fourth line.\n",
      "\n"
     ]
    }
   ],
   "source": [
    "with open(\"Example.txt\", 'r') as f:\n",
    "    content = f.read()\n",
    "    print(content)"
   ]
  },
  {
   "cell_type": "code",
   "execution_count": null,
   "id": "64ac1388-3bb1-4e9f-87c3-04880f067047",
   "metadata": {},
   "outputs": [],
   "source": []
  }
 ],
 "metadata": {
  "kernelspec": {
   "display_name": "Python 3 (ipykernel)",
   "language": "python",
   "name": "python3"
  },
  "language_info": {
   "codemirror_mode": {
    "name": "ipython",
    "version": 3
   },
   "file_extension": ".py",
   "mimetype": "text/x-python",
   "name": "python",
   "nbconvert_exporter": "python",
   "pygments_lexer": "ipython3",
   "version": "3.10.8"
  }
 },
 "nbformat": 4,
 "nbformat_minor": 5
}
