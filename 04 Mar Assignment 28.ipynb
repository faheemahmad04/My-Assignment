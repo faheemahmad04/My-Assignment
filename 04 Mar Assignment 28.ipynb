{
 "cells": [
  {
   "cell_type": "markdown",
   "id": "a5726895-717b-43e4-9e7f-575e3bb6bec7",
   "metadata": {},
   "source": [
    "04 Mar Assignment 28\n",
    "\n",
    "Both Questions and Answers are written:---"
   ]
  },
  {
   "cell_type": "markdown",
   "id": "7eaf93aa-80d5-478a-b87e-f09d4ecedb03",
   "metadata": {},
   "source": [
    "Q1. Load the \"titanic\" dataset using the load_dataset function of seaborn. Use Plotly express to plot a scatter plot for age and fare columns in the titanic dataset."
   ]
  },
  {
   "cell_type": "markdown",
   "id": "c8b34a33-6698-46e2-bdcc-d994de48d712",
   "metadata": {},
   "source": [
    "Ans:-\n",
    "\n",
    "import seaborn as sns\n",
    "\n",
    "import plotly.graph_objects as go\n",
    "\n",
    "titanic = sns.load_dataset('titanic')\n",
    "\n",
    "fig = go.Figure()\n",
    "\n",
    "fig.add_trace(go.Scatter(x=titanic.age , y=titanic.fare , mode='markers'))\n",
    "\n",
    "fig.show()"
   ]
  },
  {
   "cell_type": "code",
   "execution_count": null,
   "id": "b7f6c828-c053-40ee-9acd-a7adcd5487ca",
   "metadata": {},
   "outputs": [],
   "source": []
  },
  {
   "cell_type": "markdown",
   "id": "690027c7-4e3b-45f7-b25d-fcad65687575",
   "metadata": {},
   "source": [
    "Q2. Using the tips dataset in the Plotly library, plot a box plot using Plotly express."
   ]
  },
  {
   "cell_type": "markdown",
   "id": "ff5e52e4-2c2f-42ed-beb6-74938abf35b0",
   "metadata": {},
   "source": [
    "Ans:\n",
    "\n",
    "import seaborn as sns\n",
    "\n",
    "import plotly.graph_objects as go\n",
    "\n",
    "tips = sns.load_dataset('tips')\n",
    "\n",
    "fig = go.Figure()\n",
    "\n",
    "fig.add_trace(go.Box(x=tips.total_bill))\n",
    "\n",
    "fig.show()"
   ]
  },
  {
   "cell_type": "code",
   "execution_count": null,
   "id": "39f5539b-121f-4dbc-b077-6dae3fb88575",
   "metadata": {},
   "outputs": [],
   "source": []
  },
  {
   "cell_type": "markdown",
   "id": "442762cf-c29a-4e15-b9f2-73c4d1419c9d",
   "metadata": {},
   "source": [
    "Q3. Using the tips dataset in the Plotly library, Plot a histogram for x= \"sex\" and y=\"total_bill\" column in the tips dataset. Also, use the \"smoker\" column with the pattern_shape parameter and the \"day\" column with the color parameter."
   ]
  },
  {
   "cell_type": "markdown",
   "id": "c35c8661-6dd1-41db-8c2e-bc919ee07651",
   "metadata": {},
   "source": [
    "Ans:\n",
    "\n",
    "import seaborn as sns\n",
    "\n",
    "import plotly.express as px\n",
    "\n",
    "df = px.data.tips()\n",
    "\n",
    "fig = px.histogram(df, x=\"sex\", y=\"total_bill\", pattern_shape=\"smoker\" , color=\"sex\")\n",
    "\n",
    "fig.show()"
   ]
  },
  {
   "cell_type": "code",
   "execution_count": null,
   "id": "edbab218-4af1-4e22-b85e-87679d6e624f",
   "metadata": {},
   "outputs": [],
   "source": []
  },
  {
   "cell_type": "markdown",
   "id": "e5c41711-3d71-4cdb-8e13-da3626396f72",
   "metadata": {},
   "source": [
    "Q4. Using the iris dataset in the Plotly library, Plot a scatter matrix plot, using the \"species\" column for the color parameter.\n",
    "\n",
    "Note: Use \"sepal_length\", \"sepal_width\", \"petal_length\", \"petal_width\" columns only with the dimensions parameter."
   ]
  },
  {
   "cell_type": "markdown",
   "id": "762a4ed8-f8a8-48cc-bd82-049314e2b99e",
   "metadata": {},
   "source": [
    "Ans:\n",
    "\n",
    "import plotly.express as px\n",
    "\n",
    "df = px.data.iris()\n",
    "\n",
    "fig = px.scatter_matrix(df , dimensions=[\"sepal_length\", \"sepal_width\", \"petal_length\", \"petal_width\"])\n",
    "\n",
    "fig.show()"
   ]
  },
  {
   "cell_type": "code",
   "execution_count": null,
   "id": "a3f46de3-7152-4678-937b-8eec9fc2991d",
   "metadata": {},
   "outputs": [],
   "source": []
  },
  {
   "cell_type": "markdown",
   "id": "285a9f02-1d06-4187-a111-3c073691dce2",
   "metadata": {},
   "source": [
    "Q5. What is Distplot? Using Plotly express, plot a distplot."
   ]
  },
  {
   "cell_type": "markdown",
   "id": "cdc0eda8-6802-4167-a0fd-d7e4a8f9f822",
   "metadata": {},
   "source": [
    "Ans:\n",
    "\n",
    "A Distplot or distribution plot, depicts the variation in the data distribution. Seaborn Distplot represents the overall distribution of continuous data variables. The Distplot depicts the data by a histogram and a line in combination to it.\n",
    "\n",
    "import plotly.express as px\n",
    "\n",
    "df = px.data.tips()\n",
    "\n",
    "fig = px.histogram(df, x=\"total_bill\", y=\"tip\", color=\"sex\", marginal=\"rug\", hover_data=df.columns)\n",
    "\n",
    "fig.show()"
   ]
  },
  {
   "cell_type": "code",
   "execution_count": null,
   "id": "d1c0695a-3101-4bc7-8d04-c548ac5576cd",
   "metadata": {},
   "outputs": [],
   "source": []
  }
 ],
 "metadata": {
  "kernelspec": {
   "display_name": "Python 3 (ipykernel)",
   "language": "python",
   "name": "python3"
  },
  "language_info": {
   "codemirror_mode": {
    "name": "ipython",
    "version": 3
   },
   "file_extension": ".py",
   "mimetype": "text/x-python",
   "name": "python",
   "nbconvert_exporter": "python",
   "pygments_lexer": "ipython3",
   "version": "3.10.8"
  }
 },
 "nbformat": 4,
 "nbformat_minor": 5
}
