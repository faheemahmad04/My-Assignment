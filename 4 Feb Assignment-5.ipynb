{
 "cells": [
  {
   "cell_type": "markdown",
   "id": "a6add202-82da-4409-b339-a522728bde70",
   "metadata": {},
   "source": [
    "4 Feb Assignment-5"
   ]
  },
  {
   "cell_type": "markdown",
   "id": "34816f7e-d6c5-48b2-a3ac-ee3f07cd4ff4",
   "metadata": {},
   "source": [
    "Only Answers are written:---"
   ]
  },
  {
   "cell_type": "code",
   "execution_count": 12,
   "id": "13699a23-5d99-42b1-ba4d-80513886eed7",
   "metadata": {},
   "outputs": [
    {
     "data": {
      "text/plain": [
       "[('Virat Kohli', 24936),\n",
       " ('Jack Kallis', 25534),\n",
       " ('Ricky Ponting', 27483),\n",
       " ('Sachin Tendulkar', 34357)]"
      ]
     },
     "execution_count": 12,
     "metadata": {},
     "output_type": "execute_result"
    }
   ],
   "source": [
    "# Ans:1\n",
    "\n",
    "l = [('Sachin Tendulkar', 34357), ('Ricky Ponting', 27483), ('Jack Kallis', 25534), ('Virat Kohli', 24936)]\n",
    "sorted(l , key = lambda x : x[1])"
   ]
  },
  {
   "cell_type": "code",
   "execution_count": 6,
   "id": "12ee94f0-3aac-42b4-814c-3fcade7a8687",
   "metadata": {},
   "outputs": [
    {
     "data": {
      "text/plain": [
       "[1, 4, 9, 16, 25, 36, 49, 64, 81, 100]"
      ]
     },
     "execution_count": 6,
     "metadata": {},
     "output_type": "execute_result"
    }
   ],
   "source": [
    "# Ans:2\n",
    "\n",
    "l = [1, 2, 3, 4, 5, 6, 7, 8, 9, 10]\n",
    "list(map(lambda x : x**2 , l))"
   ]
  },
  {
   "cell_type": "code",
   "execution_count": 10,
   "id": "bb7c9b70-8549-4c74-bb9e-32938b427f4d",
   "metadata": {},
   "outputs": [
    {
     "data": {
      "text/plain": [
       "('1', '2', '3', '4', '5', '6', '7', '8', '9', '10')"
      ]
     },
     "execution_count": 10,
     "metadata": {},
     "output_type": "execute_result"
    }
   ],
   "source": [
    "# Ans:3\n",
    "\n",
    "l = [1, 2, 3, 4, 5, 6, 7, 8, 9, 10]\n",
    "tuple(map(lambda x : str(x), l))"
   ]
  },
  {
   "cell_type": "code",
   "execution_count": 16,
   "id": "c8483db4-4529-46ba-8771-0427ddbe3e99",
   "metadata": {},
   "outputs": [
    {
     "data": {
      "text/plain": [
       "15511210043330985984000000"
      ]
     },
     "execution_count": 16,
     "metadata": {},
     "output_type": "execute_result"
    }
   ],
   "source": [
    "# Ans:4\n",
    "\n",
    "from functools import reduce\n",
    "reduce(lambda x,y : x*y , list(range(1,26)))"
   ]
  },
  {
   "cell_type": "code",
   "execution_count": 19,
   "id": "c9e99b36-6175-43b1-ad74-21e4ee245999",
   "metadata": {},
   "outputs": [
    {
     "data": {
      "text/plain": [
       "[6, 60, 90, 120]"
      ]
     },
     "execution_count": 19,
     "metadata": {},
     "output_type": "execute_result"
    }
   ],
   "source": [
    "# Ans:5\n",
    "\n",
    "l = [2, 3, 6, 9, 27, 60, 90, 120, 55, 46]\n",
    "list(filter(lambda x : x%2 == 0 and x%3 == 0 , l))"
   ]
  },
  {
   "cell_type": "code",
   "execution_count": 20,
   "id": "5bb1654f-601b-4424-b42e-5b578a0910e8",
   "metadata": {},
   "outputs": [
    {
     "data": {
      "text/plain": [
       "['php', 'aba', 'radar', 'level']"
      ]
     },
     "execution_count": 20,
     "metadata": {},
     "output_type": "execute_result"
    }
   ],
   "source": [
    "# Ans:6\n",
    "\n",
    "l = ['python', 'php', 'aba', 'radar', 'level']\n",
    "list(filter(lambda x : x == x[::-1] , l))"
   ]
  },
  {
   "cell_type": "code",
   "execution_count": null,
   "id": "47889e89-19cc-408a-b93e-44afdd64e76a",
   "metadata": {},
   "outputs": [],
   "source": []
  }
 ],
 "metadata": {
  "kernelspec": {
   "display_name": "Python 3 (ipykernel)",
   "language": "python",
   "name": "python3"
  },
  "language_info": {
   "codemirror_mode": {
    "name": "ipython",
    "version": 3
   },
   "file_extension": ".py",
   "mimetype": "text/x-python",
   "name": "python",
   "nbconvert_exporter": "python",
   "pygments_lexer": "ipython3",
   "version": "3.10.8"
  }
 },
 "nbformat": 4,
 "nbformat_minor": 5
}
