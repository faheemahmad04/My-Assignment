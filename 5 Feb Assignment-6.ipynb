{
 "cells": [
  {
   "cell_type": "markdown",
   "id": "ae058f5e-e4fc-478f-aa0c-cdace8b49af0",
   "metadata": {},
   "source": [
    "5 Feb Assignment-6"
   ]
  },
  {
   "cell_type": "markdown",
   "id": "0603ab5d-32e4-4be1-bc1a-3595af140764",
   "metadata": {},
   "source": [
    "Only answers are written:---"
   ]
  },
  {
   "cell_type": "markdown",
   "id": "f4295efe-00c6-4776-a13a-772ef60ea0de",
   "metadata": {},
   "source": [
    "Ans:1\n",
    "\n",
    "A class is considered as a blueprint that defines the properties and behavior of objects. We can think of the class as a sketch of a house. It contains all the details about the floors, doors, windows, etc. Based on these descriptions we build the house. House is the object. \n",
    "An object is called an instance of a class that has its own set of unique attributes and methods."
   ]
  },
  {
   "cell_type": "code",
   "execution_count": 3,
   "id": "a319aeb3-2641-436e-81e5-1821ddf54ca6",
   "metadata": {},
   "outputs": [
    {
     "name": "stdout",
     "output_type": "stream",
     "text": [
      "Make of my car is: Toyota\n",
      "Model of my car is: Camry\n",
      "Year of my car is: 2020\n",
      "Color of my car is: red\n",
      "Starting the car...\n",
      "Accelerating the car...\n",
      "Applying bakes...\n",
      "Stopping the car...\n"
     ]
    }
   ],
   "source": [
    "# Example:---\n",
    "\n",
    "class Car:\n",
    "    def __init__(self, make, model, year, color):\n",
    "        self.make = make\n",
    "        self.model = model\n",
    "        self.year = year\n",
    "        self.color = color\n",
    "        \n",
    "    def start(self):\n",
    "        print(\"Starting the car...\")\n",
    "        \n",
    "    def stop(self):\n",
    "        print(\"Stopping the car...\")\n",
    "        \n",
    "    def accelerate(self):\n",
    "        print(\"Accelerating the car...\")\n",
    "        \n",
    "    def brake(self):\n",
    "        print(\"Applying bakes...\")\n",
    "        \n",
    "# create an object of Car class \n",
    "mycar = Car('Toyota', 'Camry', 2020, 'red')\n",
    "\n",
    "# access attributes of the object\n",
    "print(\"Make of my car is:\", mycar.make)\n",
    "print(\"Model of my car is:\", mycar.model)\n",
    "print(\"Year of my car is:\", mycar.year)\n",
    "print(\"Color of my car is:\", mycar.color)\n",
    "\n",
    "\n",
    "# call methods of the object\n",
    "mycar.start()\n",
    "mycar.accelerate()\n",
    "mycar.brake()\n",
    "mycar.stop()"
   ]
  },
  {
   "cell_type": "markdown",
   "id": "8ff750e0-bc79-44af-b8ee-cca6c3e38d37",
   "metadata": {},
   "source": [
    "Ans:2\n",
    "\n",
    "The four pillars of OOPs are:--\n",
    "1- Inheritance\n",
    "2- Polymorphism\n",
    "3- Encapsulation\n",
    "4- Abstraction"
   ]
  },
  {
   "cell_type": "markdown",
   "id": "dbb47cb3-975f-4e35-b7fd-ef8791f5c33c",
   "metadata": {},
   "source": [
    "Ans:3\n",
    "\n",
    "It is used to initialize the attributes of the object. The __init__() method is also known as a constructor. It is the first method that is called after an object is created."
   ]
  },
  {
   "cell_type": "code",
   "execution_count": 5,
   "id": "0c9ae523-fef6-4be5-9d2e-0a3a7a04e41d",
   "metadata": {},
   "outputs": [
    {
     "name": "stdout",
     "output_type": "stream",
     "text": [
      "My name is Faheem and I am 23 year old.\n"
     ]
    }
   ],
   "source": [
    "# Example:---\n",
    "\n",
    "class Person:\n",
    "    def __init__(self, name, age):\n",
    "        self.name = name\n",
    "        self.age = age\n",
    "        \n",
    "    def greet(self):\n",
    "        print(\"My name is\", self.name, \"and I am\", self.age, \"year old.\")\n",
    "        \n",
    "# creating an object of Person class\n",
    "person1 = Person(\"Faheem\", 23)\n",
    "\n",
    "# calling the greet method of the person1 object\n",
    "person1.greet()"
   ]
  },
  {
   "cell_type": "markdown",
   "id": "5b969d64-e5b7-4e0c-a11c-28f20414380b",
   "metadata": {},
   "source": [
    "Ans:4\n",
    "\n",
    "'Self' keyword is used in OOPs to refer to the instance of the class and access its instance variable and method. It is essential in differentiating between the class attributes and the instance attributes and in performing actions specific to an instance."
   ]
  },
  {
   "cell_type": "markdown",
   "id": "3fbce11d-03e0-472f-9dea-8e8814de0a6f",
   "metadata": {},
   "source": [
    "Ans:5\n",
    "\n",
    "Inheritance is defined as the mechanism of inheriting the properties of the base class to the child class.\n",
    "There are five types of inheritances in Python:--\n",
    "1- Single Inheritance\n",
    "2- Multiple Inheritance\n",
    "3- Multilevel Inheritance\n",
    "4- Hierarchical Inheritance\n",
    "5- Hybrid Inheritance"
   ]
  },
  {
   "cell_type": "code",
   "execution_count": 6,
   "id": "189d018c-f7de-4298-b448-afac5a3d773b",
   "metadata": {},
   "outputs": [
    {
     "name": "stdout",
     "output_type": "stream",
     "text": [
      "This function is in parent class.\n",
      "This function is in child class.\n"
     ]
    }
   ],
   "source": [
    "# Example of each type:---\n",
    "\n",
    "# Single Inheritance:-\n",
    "\n",
    "class Parent:\n",
    "    def func1(self):\n",
    "        print(\"This function is in parent class.\")\n",
    "        \n",
    "class Child(Parent):\n",
    "    def func2(self):\n",
    "        print(\"This function is in child class.\")\n",
    "        \n",
    "object = Child()\n",
    "object.func1()\n",
    "object.func2()"
   ]
  },
  {
   "cell_type": "code",
   "execution_count": 13,
   "id": "e9880692-0f09-4b55-90d0-1492ccdaae1c",
   "metadata": {},
   "outputs": [
    {
     "name": "stdout",
     "output_type": "stream",
     "text": [
      "My father name is : Nasim\n",
      "My mother name is : Rukhsana\n"
     ]
    }
   ],
   "source": [
    "# Multiple Inheritance\n",
    "\n",
    "class Mother:\n",
    "    mothername = \"\"\n",
    "    \n",
    "    def mother(self):\n",
    "        print(self.mothername)\n",
    "        \n",
    "class Father:\n",
    "    fathername = \"\"\n",
    "    \n",
    "    def father(self):\n",
    "        print(self.fathername)\n",
    "        \n",
    "class Son(Mother, Father):\n",
    "    def parents(self):\n",
    "        print(\"My father name is :\", self.fathername)\n",
    "        print(\"My mother name is :\", self.mothername)\n",
    "    \n",
    "s1 = Son()\n",
    "s1.fathername = \"Nasim\"\n",
    "s1.mothername = \"Rukhsana\"\n",
    "s1.parents()"
   ]
  },
  {
   "cell_type": "code",
   "execution_count": 17,
   "id": "c3039d54-aed3-42ae-af26-4778fb2a8dcb",
   "metadata": {},
   "outputs": [
    {
     "name": "stdout",
     "output_type": "stream",
     "text": [
      "Grandfather name : Naim\n",
      "Father name : Nasim\n",
      "Son name : Faheem\n"
     ]
    }
   ],
   "source": [
    "# Multilevel Inheritance\n",
    "\n",
    "class Grandfather:\n",
    "    def __init__(self, grandfathername):\n",
    "        self.grandfathername = grandfathername\n",
    "        \n",
    "class Father(Grandfather):\n",
    "    def __init__(self, fathername, grandfathername):\n",
    "        self.fathername = fathername\n",
    "        \n",
    "        Grandfather.__init__(self, grandfathername)\n",
    "        \n",
    "class Son(Father):\n",
    "    def __init__(self, sonname, fathername, grandfathername):\n",
    "        self.sonname = sonname\n",
    "        \n",
    "        Father.__init__(self, fathername, grandfathername)\n",
    "        \n",
    "    def print_name(self):\n",
    "        print('Grandfather name :', self.grandfathername)\n",
    "        print('Father name :', self.fathername)\n",
    "        print('Son name :', self.sonname)\n",
    "        \n",
    "        \n",
    "s1 = Son('Faheem', 'Nasim', 'Naim')\n",
    "s1.print_name()"
   ]
  },
  {
   "cell_type": "code",
   "execution_count": 18,
   "id": "7fbcdfc5-6b45-483a-b1b9-16424fe3ad69",
   "metadata": {},
   "outputs": [
    {
     "name": "stdout",
     "output_type": "stream",
     "text": [
      "This function is in parent class.\n",
      "This function is in child 1.\n",
      "This function is in parent class.\n",
      "This function is in child 2.\n"
     ]
    }
   ],
   "source": [
    "# Hierarchical Inheritance\n",
    "\n",
    "class Parent:\n",
    "    def func1(self):\n",
    "        print(\"This function is in parent class.\")\n",
    "        \n",
    "class Child1(Parent):\n",
    "    def func2(self):\n",
    "        print(\"This function is in child 1.\")\n",
    "        \n",
    "class Child2(Parent):\n",
    "    def func3(self):\n",
    "        print(\"This function is in child 2.\")\n",
    "        \n",
    "        \n",
    "object1 = Child1()\n",
    "object2 = Child2()\n",
    "object1.func1()\n",
    "object1.func2()\n",
    "object2.func1()\n",
    "object2.func3()"
   ]
  },
  {
   "cell_type": "code",
   "execution_count": 19,
   "id": "41b99749-1040-4a45-b0dc-bfa28b70c279",
   "metadata": {},
   "outputs": [
    {
     "name": "stdout",
     "output_type": "stream",
     "text": [
      "This function is in school.\n",
      "This function is in student 1. \n"
     ]
    }
   ],
   "source": [
    "# Hybrid Inheritance\n",
    "\n",
    "class School:\n",
    "\tdef func1(self):\n",
    "\t\tprint(\"This function is in school.\")\n",
    "\n",
    "\n",
    "class Student1(School):\n",
    "\tdef func2(self):\n",
    "\t\tprint(\"This function is in student 1. \")\n",
    "\n",
    "\n",
    "class Student2(School):\n",
    "\tdef func3(self):\n",
    "\t\tprint(\"This function is in student 2.\")\n",
    "\n",
    "\n",
    "class Student3(Student1, School):\n",
    "\tdef func4(self):\n",
    "\t\tprint(\"This function is in student 3.\")\n",
    "\n",
    "\n",
    "\n",
    "object = Student3()\n",
    "object.func1()\n",
    "object.func2()"
   ]
  },
  {
   "cell_type": "markdown",
   "id": "4ccf8e9a-a6d7-4bc9-97a6-3a51421cf02a",
   "metadata": {},
   "source": [
    "I am unable to understand the last ans"
   ]
  }
 ],
 "metadata": {
  "kernelspec": {
   "display_name": "Python 3 (ipykernel)",
   "language": "python",
   "name": "python3"
  },
  "language_info": {
   "codemirror_mode": {
    "name": "ipython",
    "version": 3
   },
   "file_extension": ".py",
   "mimetype": "text/x-python",
   "name": "python",
   "nbconvert_exporter": "python",
   "pygments_lexer": "ipython3",
   "version": "3.10.8"
  }
 },
 "nbformat": 4,
 "nbformat_minor": 5
}
