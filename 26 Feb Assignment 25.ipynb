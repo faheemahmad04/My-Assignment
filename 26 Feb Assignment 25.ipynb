{
 "cells": [
  {
   "cell_type": "markdown",
   "id": "2dc5c2a5-57ce-4346-b67c-8366488cd504",
   "metadata": {},
   "source": [
    "26 Feb Assignment 25\n",
    "\n",
    "Both Questions and Answers are written:---"
   ]
  },
  {
   "cell_type": "markdown",
   "id": "84815323-ef45-4389-b42a-ec4a258d2f06",
   "metadata": {},
   "source": [
    "Consider the below code to answer further questions:\n",
    "\n",
    "import numpy as np\n",
    "\n",
    "list_ = [ ‘1’ , ’2’ , ‘3’ , ‘4’ , ‘5’ ]\n",
    "\n",
    "array_list = np.array(object = list_)"
   ]
  },
  {
   "cell_type": "markdown",
   "id": "eea93239-f0e9-4e74-8226-27d1347f4cd0",
   "metadata": {},
   "source": [
    "Q1. Is there any difference in the data type of variables list_ and array_list? If there is then write a code to print the data types of both the variables."
   ]
  },
  {
   "cell_type": "code",
   "execution_count": 7,
   "id": "29d9bf76-97d7-4855-955f-33ce49c7f10c",
   "metadata": {},
   "outputs": [],
   "source": [
    "# Ans: Yes, both have different datatypes"
   ]
  },
  {
   "cell_type": "code",
   "execution_count": 1,
   "id": "f21ac8b9-c0e0-4246-9f43-12ac6599d417",
   "metadata": {},
   "outputs": [],
   "source": [
    "import numpy as np"
   ]
  },
  {
   "cell_type": "code",
   "execution_count": 2,
   "id": "8b971976-5b14-412c-9273-91baa9edf98c",
   "metadata": {},
   "outputs": [],
   "source": [
    "list_ = ['1', '2', '3', '4', '5']\n",
    "\n",
    "array_list = np.array(object = list_)"
   ]
  },
  {
   "cell_type": "code",
   "execution_count": 4,
   "id": "e639f5a4-0095-4804-969c-307991acb72a",
   "metadata": {},
   "outputs": [
    {
     "data": {
      "text/plain": [
       "list"
      ]
     },
     "execution_count": 4,
     "metadata": {},
     "output_type": "execute_result"
    }
   ],
   "source": [
    "type(list_)"
   ]
  },
  {
   "cell_type": "code",
   "execution_count": 5,
   "id": "93f8c2b6-342c-4b40-968d-7325d2d4ab83",
   "metadata": {},
   "outputs": [
    {
     "data": {
      "text/plain": [
       "numpy.ndarray"
      ]
     },
     "execution_count": 5,
     "metadata": {},
     "output_type": "execute_result"
    }
   ],
   "source": [
    "type(array_list)"
   ]
  },
  {
   "cell_type": "code",
   "execution_count": null,
   "id": "8ed7fd4a-f48d-4f3a-9d0f-5611d4206a45",
   "metadata": {},
   "outputs": [],
   "source": []
  },
  {
   "cell_type": "code",
   "execution_count": null,
   "id": "ec7a0193-91d6-4d8a-8396-ed62d21568a3",
   "metadata": {},
   "outputs": [],
   "source": []
  },
  {
   "cell_type": "markdown",
   "id": "d5b8a237-421f-4e9d-adef-5d3232c994ad",
   "metadata": {},
   "source": [
    "Q2. Write a code to print the data type of each and every element of both the variables list_ and arra_list."
   ]
  },
  {
   "cell_type": "code",
   "execution_count": 46,
   "id": "4cae9c80-d7b2-4005-9982-3eca35ae6402",
   "metadata": {},
   "outputs": [],
   "source": [
    "# Ans:2"
   ]
  },
  {
   "cell_type": "code",
   "execution_count": 16,
   "id": "88bb9496-d013-4a6a-be41-2bec8933307b",
   "metadata": {},
   "outputs": [
    {
     "data": {
      "text/plain": [
       "str"
      ]
     },
     "execution_count": 16,
     "metadata": {},
     "output_type": "execute_result"
    }
   ],
   "source": [
    "type(list_[0])\n",
    "type(list_[1])\n",
    "type(list_[2])\n",
    "type(list_[3])\n",
    "type(list_[4])"
   ]
  },
  {
   "cell_type": "code",
   "execution_count": 18,
   "id": "e8030ced-3bf2-4e4d-906e-f99b67f9d96d",
   "metadata": {},
   "outputs": [
    {
     "data": {
      "text/plain": [
       "numpy.str_"
      ]
     },
     "execution_count": 18,
     "metadata": {},
     "output_type": "execute_result"
    }
   ],
   "source": [
    "type(array_list[0])\n",
    "type(array_list[1])\n",
    "type(array_list[2])\n",
    "type(array_list[3])\n",
    "type(array_list[4])"
   ]
  },
  {
   "cell_type": "code",
   "execution_count": null,
   "id": "9a2152c7-398f-4d70-8068-668598a582e0",
   "metadata": {},
   "outputs": [],
   "source": []
  },
  {
   "cell_type": "code",
   "execution_count": null,
   "id": "174d04e2-bf6a-488c-ad01-81cba7717f4d",
   "metadata": {},
   "outputs": [],
   "source": []
  },
  {
   "cell_type": "markdown",
   "id": "0f89fd08-17c3-447b-8e23-cf87f883e096",
   "metadata": {},
   "source": [
    "Q3. Considering the following changes in the variable, array_list:\n",
    "\n",
    "array_list = np.array(object = list_, dtype = int)\n",
    "\n",
    "Will there be any difference in the data type of the elements present in both the variables, list_ and arra_list? If so then print the data types of each and every element present in both the variables, list_ and arra_list."
   ]
  },
  {
   "cell_type": "markdown",
   "id": "026aec07-ab9d-48da-9a93-c9155b9e1e5e",
   "metadata": {},
   "source": [
    "Ans:4- Yes, there is difference of datatype in both the variables."
   ]
  },
  {
   "cell_type": "code",
   "execution_count": 19,
   "id": "40ab9798-5416-441d-84b2-592870d9bbe0",
   "metadata": {},
   "outputs": [],
   "source": [
    "array_list = np.array(object = list_, dtype = int)"
   ]
  },
  {
   "cell_type": "code",
   "execution_count": 23,
   "id": "053bb0e1-34b5-43b4-9792-1ce37d8c7b96",
   "metadata": {},
   "outputs": [
    {
     "data": {
      "text/plain": [
       "str"
      ]
     },
     "execution_count": 23,
     "metadata": {},
     "output_type": "execute_result"
    }
   ],
   "source": [
    "type(list_[0])\n",
    "type(list_[1])\n",
    "type(list_[2])\n",
    "type(list_[3])\n",
    "type(list_[4])"
   ]
  },
  {
   "cell_type": "code",
   "execution_count": 24,
   "id": "a17a1dc0-bb73-4ced-8c9c-7b17bf6486c1",
   "metadata": {},
   "outputs": [
    {
     "data": {
      "text/plain": [
       "numpy.int64"
      ]
     },
     "execution_count": 24,
     "metadata": {},
     "output_type": "execute_result"
    }
   ],
   "source": [
    "type(array_list[0])\n",
    "type(array_list[1])\n",
    "type(array_list[2])\n",
    "type(array_list[3])\n",
    "type(array_list[4])"
   ]
  },
  {
   "cell_type": "code",
   "execution_count": null,
   "id": "8cf8fffa-437a-49b2-b759-a2e3dbf0e6e3",
   "metadata": {},
   "outputs": [],
   "source": []
  },
  {
   "cell_type": "code",
   "execution_count": null,
   "id": "769810fe-4228-436b-a8f6-53fb1c27e907",
   "metadata": {},
   "outputs": [],
   "source": []
  },
  {
   "cell_type": "markdown",
   "id": "0bd98f4f-13c2-4c56-8981-f7395ecb8f33",
   "metadata": {},
   "source": [
    "Consider the below code to answer further questions:\n",
    "\n",
    "import numpy as np\n",
    "\n",
    "num_list = [ [ 1 , 2 , 3 ] , [ 4 , 5 , 6 ] ]\n",
    "\n",
    "num_array = np.array(object = num_list)\n",
    "\n",
    "Q4. Write a code to find the following characteristics of variable, num_array:\n",
    "\n",
    "(i) shape\n",
    "\n",
    "(ii) size"
   ]
  },
  {
   "cell_type": "code",
   "execution_count": 25,
   "id": "81544ca0-5e2a-432f-bc3c-64a65253ae47",
   "metadata": {},
   "outputs": [],
   "source": [
    "num_list = [ [ 1 , 2 , 3 ] , [ 4 , 5 , 6 ] ]"
   ]
  },
  {
   "cell_type": "code",
   "execution_count": 26,
   "id": "64ee9e1c-cc65-441a-ac8a-caa290afab5a",
   "metadata": {},
   "outputs": [],
   "source": [
    "num_array = np.array(object = num_list)"
   ]
  },
  {
   "cell_type": "code",
   "execution_count": 37,
   "id": "c7513a77-ccf1-4b65-9547-cc37c4d0bd33",
   "metadata": {},
   "outputs": [
    {
     "data": {
      "text/plain": [
       "(2, 3)"
      ]
     },
     "execution_count": 37,
     "metadata": {},
     "output_type": "execute_result"
    }
   ],
   "source": [
    "# Ans:4\n",
    "# (i)\n",
    "num_array.shape"
   ]
  },
  {
   "cell_type": "code",
   "execution_count": 36,
   "id": "cf754419-9242-4d13-ae09-9bbef1c8ce32",
   "metadata": {},
   "outputs": [
    {
     "data": {
      "text/plain": [
       "6"
      ]
     },
     "execution_count": 36,
     "metadata": {},
     "output_type": "execute_result"
    }
   ],
   "source": [
    "# (ii)\n",
    "num_array.size"
   ]
  },
  {
   "cell_type": "code",
   "execution_count": null,
   "id": "8abcbc55-f352-4579-9f57-7c5d1b6fdae2",
   "metadata": {},
   "outputs": [],
   "source": []
  },
  {
   "cell_type": "code",
   "execution_count": null,
   "id": "a9121ec9-2f8c-4e57-a443-db8dd08bbf59",
   "metadata": {},
   "outputs": [],
   "source": []
  },
  {
   "cell_type": "markdown",
   "id": "2420001a-9163-4dcd-ac8b-aae3908874cb",
   "metadata": {},
   "source": [
    "Q5. Write a code to create numpy array of 3*3 matrix containing zeros only, using a numpy array creation function.\n",
    "\n",
    "[Hint: The size of the array will be 9 and the shape will be (3,3).]"
   ]
  },
  {
   "cell_type": "code",
   "execution_count": 30,
   "id": "8c7b4429-9535-4a5a-af82-03eeae54157f",
   "metadata": {},
   "outputs": [],
   "source": [
    "# Ans:5\n",
    "\n",
    "marray = np.zeros((3,3))"
   ]
  },
  {
   "cell_type": "code",
   "execution_count": 31,
   "id": "486bc2f1-9d45-453f-90ce-d884dc949120",
   "metadata": {},
   "outputs": [
    {
     "data": {
      "text/plain": [
       "array([[0., 0., 0.],\n",
       "       [0., 0., 0.],\n",
       "       [0., 0., 0.]])"
      ]
     },
     "execution_count": 31,
     "metadata": {},
     "output_type": "execute_result"
    }
   ],
   "source": [
    "marray"
   ]
  },
  {
   "cell_type": "code",
   "execution_count": 32,
   "id": "7d2589da-c6e8-4a13-9197-c4ebb88ca442",
   "metadata": {},
   "outputs": [
    {
     "data": {
      "text/plain": [
       "9"
      ]
     },
     "execution_count": 32,
     "metadata": {},
     "output_type": "execute_result"
    }
   ],
   "source": [
    "marray.size"
   ]
  },
  {
   "cell_type": "code",
   "execution_count": 33,
   "id": "b9d5f8d4-51d8-4f92-b51b-45fa1185d94e",
   "metadata": {},
   "outputs": [
    {
     "data": {
      "text/plain": [
       "(3, 3)"
      ]
     },
     "execution_count": 33,
     "metadata": {},
     "output_type": "execute_result"
    }
   ],
   "source": [
    "marray.shape"
   ]
  },
  {
   "cell_type": "code",
   "execution_count": null,
   "id": "157fd0db-61b4-49f7-8c3a-50b765b01394",
   "metadata": {},
   "outputs": [],
   "source": []
  },
  {
   "cell_type": "code",
   "execution_count": null,
   "id": "5df12073-f119-4455-9a69-24a49962096c",
   "metadata": {},
   "outputs": [],
   "source": []
  },
  {
   "cell_type": "markdown",
   "id": "4300904b-b5b2-4ad3-a72a-69ffa96d540d",
   "metadata": {},
   "source": [
    "Q6. Create an identity matrix of shape (5,5) using numpy functions?\n",
    "\n",
    "[Hint: An identity matrix is a matrix containing 1 diagonally and other elements will be 0.]"
   ]
  },
  {
   "cell_type": "code",
   "execution_count": 45,
   "id": "8af94693-3c55-4100-81ee-9c1209c225c4",
   "metadata": {},
   "outputs": [],
   "source": [
    "# Ans:6\n",
    "\n",
    "ar = np.ones(5)"
   ]
  },
  {
   "cell_type": "code",
   "execution_count": 41,
   "id": "3f024731-6fbe-4942-8849-69e8aae80767",
   "metadata": {},
   "outputs": [
    {
     "data": {
      "text/plain": [
       "array([1., 1., 1., 1., 1.])"
      ]
     },
     "execution_count": 41,
     "metadata": {},
     "output_type": "execute_result"
    }
   ],
   "source": [
    "ar"
   ]
  },
  {
   "cell_type": "code",
   "execution_count": 44,
   "id": "a6e6d155-6393-4e19-8339-ea64e45ef026",
   "metadata": {},
   "outputs": [
    {
     "data": {
      "text/plain": [
       "array([[1., 0., 0., 0., 0.],\n",
       "       [0., 1., 0., 0., 0.],\n",
       "       [0., 0., 1., 0., 0.],\n",
       "       [0., 0., 0., 1., 0.],\n",
       "       [0., 0., 0., 0., 1.]])"
      ]
     },
     "execution_count": 44,
     "metadata": {},
     "output_type": "execute_result"
    }
   ],
   "source": [
    "np.diag(ar)"
   ]
  },
  {
   "cell_type": "code",
   "execution_count": null,
   "id": "52929a08-3ef0-4664-bda3-d6e7e2765ad8",
   "metadata": {},
   "outputs": [],
   "source": []
  },
  {
   "cell_type": "code",
   "execution_count": null,
   "id": "ee1bc7ea-d9f7-4443-b5a2-b5072ba579f7",
   "metadata": {},
   "outputs": [],
   "source": []
  }
 ],
 "metadata": {
  "kernelspec": {
   "display_name": "Python 3 (ipykernel)",
   "language": "python",
   "name": "python3"
  },
  "language_info": {
   "codemirror_mode": {
    "name": "ipython",
    "version": 3
   },
   "file_extension": ".py",
   "mimetype": "text/x-python",
   "name": "python",
   "nbconvert_exporter": "python",
   "pygments_lexer": "ipython3",
   "version": "3.10.8"
  }
 },
 "nbformat": 4,
 "nbformat_minor": 5
}
