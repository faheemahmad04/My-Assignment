{
 "cells": [
  {
   "cell_type": "markdown",
   "id": "5ed01783-a781-44d7-9ed6-bfc874c61530",
   "metadata": {},
   "source": [
    "30 January Assigment-2"
   ]
  },
  {
   "cell_type": "markdown",
   "id": "07b93b2f-52fe-40eb-b016-67e83d62c5ed",
   "metadata": {},
   "source": [
    "Only answers are written:---"
   ]
  },
  {
   "cell_type": "code",
   "execution_count": 3,
   "id": "71eee118-8aeb-41fd-9e58-252094bc8ce4",
   "metadata": {},
   "outputs": [
    {
     "name": "stdin",
     "output_type": "stream",
     "text": [
      "Enter your marks 87\n"
     ]
    },
    {
     "name": "stdout",
     "output_type": "stream",
     "text": [
      "Grade B\n"
     ]
    }
   ],
   "source": [
    "# Ans:1\n",
    "\n",
    "marks = int(input(\"Enter your marks\"))\n",
    "if marks > 90:\n",
    "    print('Grade A')\n",
    "    \n",
    "elif marks > 80 and marks <= 90:\n",
    "    print('Grade B')\n",
    "    \n",
    "elif marks > 60 and marks <=80:\n",
    "    print('Grade C')\n",
    "    \n",
    "else:\n",
    "    print('Grade D')"
   ]
  },
  {
   "cell_type": "code",
   "execution_count": 5,
   "id": "ac833d93-ea78-4324-8469-69772871d682",
   "metadata": {},
   "outputs": [
    {
     "name": "stdin",
     "output_type": "stream",
     "text": [
      "Enter Cost of Bike 50000\n"
     ]
    },
    {
     "name": "stdout",
     "output_type": "stream",
     "text": [
      "Road Tax to be paid  2500.0\n"
     ]
    }
   ],
   "source": [
    "# Ans:2\n",
    "\n",
    "CP = int(input('Enter Cost of Bike'))\n",
    "if CP > 100000:\n",
    "    print('Road Tax to be paid ', (CP*15)/100)\n",
    "    \n",
    "elif CP > 50000 and CP <= 100000:\n",
    "    print('Road Tax to be paid ', (CP*10/100))\n",
    "    \n",
    "else:\n",
    "    print('Road Tax to be paid ', (CP*5)/100)"
   ]
  },
  {
   "cell_type": "code",
   "execution_count": 8,
   "id": "62cf5a8d-66f8-4644-b887-7af04b554e6a",
   "metadata": {},
   "outputs": [
    {
     "name": "stdin",
     "output_type": "stream",
     "text": [
      "Enter the city name Agra\n"
     ]
    },
    {
     "name": "stdout",
     "output_type": "stream",
     "text": [
      "Taj Mahal\n"
     ]
    }
   ],
   "source": [
    "# Ans:3\n",
    "\n",
    "city = input('Enter the city name')\n",
    "if city == 'Agra':\n",
    "    print('Taj Mahal')\n",
    "    \n",
    "elif city == 'Delhi':\n",
    "    print('Red Fort')\n",
    "    \n",
    "elif city == 'Jaipur':\n",
    "    print('Jal Mahal')\n",
    "    \n",
    "else:\n",
    "    print('City is not mentioned')"
   ]
  },
  {
   "cell_type": "code",
   "execution_count": 4,
   "id": "3ec4c3e5-c327-4e64-84f3-7b4359a1bf17",
   "metadata": {},
   "outputs": [
    {
     "name": "stdin",
     "output_type": "stream",
     "text": [
      "Enter the no.  9\n"
     ]
    },
    {
     "name": "stdout",
     "output_type": "stream",
     "text": [
      "9 is less than 10\n"
     ]
    }
   ],
   "source": [
    "# Ans:4\n",
    "\n",
    "num = int(input('Enter the no. '))\n",
    "if num > 10:\n",
    "    result = num/3\n",
    "    print(\"Total number of times\", num, \"is divisible by 3 is\", result)\n",
    "else:\n",
    "    print(num, \"is less than 10\")"
   ]
  },
  {
   "cell_type": "raw",
   "id": "26a150d2-e9a1-4f2b-8ce2-283623ef8633",
   "metadata": {},
   "source": [
    "Ans: 5\n",
    "\n",
    "    \"The While statement simply loops until a condition is false. We use While Loop when we don't have a tidy data structure to iterate through, or when we don't have a generator function that drives our processing.\n",
    "    \"While Loop is an indefinite iteration that is used when a loop repeats unknown number of times and end when some condition is met.\""
   ]
  },
  {
   "cell_type": "code",
   "execution_count": 7,
   "id": "a8e9c93b-7d28-48ba-9dd2-8e0d7d522dd8",
   "metadata": {},
   "outputs": [
    {
     "name": "stdout",
     "output_type": "stream",
     "text": [
      "0 0\n",
      "0   0\n",
      "0     0\n",
      "0       0\n",
      "0         0\n"
     ]
    }
   ],
   "source": [
    "# Ans:6\n",
    "\n",
    "# Pattern-1\n",
    "\n",
    "num =0\n",
    "while num < 5:\n",
    "    print('0', end=' ')\n",
    "    num1 = 0\n",
    "    while num1 < num:\n",
    "        print(' ', end=' ')\n",
    "        num1 +=1\n",
    "    print('0')\n",
    "    num +=1"
   ]
  },
  {
   "cell_type": "code",
   "execution_count": 9,
   "id": "a6f4f3c7-0133-44ae-93f3-9727d6f15385",
   "metadata": {},
   "outputs": [
    {
     "name": "stdout",
     "output_type": "stream",
     "text": [
      "0 1 2 3 4 \n",
      "0 2 4 6 8 \n",
      "0 3 6 9 12 \n",
      "0 4 8 12 16 \n",
      "0 5 10 15 20 \n"
     ]
    }
   ],
   "source": [
    "# Ans:6\n",
    "\n",
    "# Pattern-2\n",
    "\n",
    "a =1\n",
    "while a <= 5:\n",
    "    b = 0\n",
    "    while b <= 4:\n",
    "        print(a*b, end=' ')\n",
    "        b += 1\n",
    "    print()\n",
    "    a += 1"
   ]
  },
  {
   "cell_type": "code",
   "execution_count": 16,
   "id": "7ac86cba-145a-4919-94db-1569d9f3fe83",
   "metadata": {},
   "outputs": [
    {
     "name": "stdout",
     "output_type": "stream",
     "text": [
      "1  \n",
      "1 2  \n",
      "1 2 3  \n",
      "1 2 3 4  \n",
      "1 2 3 4 5  \n"
     ]
    }
   ],
   "source": [
    "# Ans:6\n",
    "\n",
    "# Pattern-3\n",
    "\n",
    "n = 1\n",
    "while n <= 5:\n",
    "    m = 1\n",
    "    while m <= n:\n",
    "        print(m, end=\" \")\n",
    "        m = m+1\n",
    "    print(\" \")\n",
    "    n = n+1"
   ]
  },
  {
   "cell_type": "code",
   "execution_count": null,
   "id": "b0333276-891d-4d71-aa36-1a3a7f209806",
   "metadata": {},
   "outputs": [],
   "source": [
    "# Ans:7\n",
    "\n",
    "l = 10\n",
    "while l >= 1:\n",
    "    print(l)\n",
    "    l = l-1"
   ]
  }
 ],
 "metadata": {
  "kernelspec": {
   "display_name": "Python 3 (ipykernel)",
   "language": "python",
   "name": "python3"
  },
  "language_info": {
   "codemirror_mode": {
    "name": "ipython",
    "version": 3
   },
   "file_extension": ".py",
   "mimetype": "text/x-python",
   "name": "python",
   "nbconvert_exporter": "python",
   "pygments_lexer": "ipython3",
   "version": "3.10.8"
  }
 },
 "nbformat": 4,
 "nbformat_minor": 5
}
