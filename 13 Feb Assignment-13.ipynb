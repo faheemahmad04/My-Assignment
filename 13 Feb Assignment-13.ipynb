{
 "cells": [
  {
   "cell_type": "markdown",
   "id": "227f4c3e-3839-4c20-b84d-4e0d2c686ca3",
   "metadata": {},
   "source": [
    "13 Feb Assignment-13\n",
    "\n",
    "Only Answers are written:---"
   ]
  },
  {
   "cell_type": "markdown",
   "id": "e93ab17b-ee1d-45f6-a5c8-e498a79af118",
   "metadata": {},
   "source": [
    "Ans:1\n",
    "\n",
    "Because exception class is the base class for all the exceptions. By inheriting from the exception class, we can ensure that our custom exception is compatible with the built-in exception handling mechanisms. We can also customize our exception class by defining its own attributes and methods."
   ]
  },
  {
   "cell_type": "markdown",
   "id": "1f69ce83-54b1-4130-85dc-918394ac6f20",
   "metadata": {},
   "source": [
    "Ans:2\n",
    "\n",
    "Sir, I'm unable to do this question. Please suggest me some clue."
   ]
  },
  {
   "cell_type": "markdown",
   "id": "4cb94890-9a79-412f-8b0a-9b2a1634adfb",
   "metadata": {},
   "source": [
    "Ans:3\n",
    "\n",
    "ZeroDivisionError, OverFlowError and FloatingPointError are defined in the ArithmeticError class.\n",
    "\n",
    "ZeroDivisionError:- It raised when the second argumemnt of a divivsion operation is zero.\n",
    "\n",
    "OverFlowError:- It raised when the result of an arithmetic operation is too large to be represented.\n",
    "\n",
    "FloatingPointError:- It raised when a floating point operation is fails. It can't raised by default but can be enable by setting the sys.float_error flag."
   ]
  },
  {
   "cell_type": "markdown",
   "id": "feac44f4-b918-462b-85c9-08854e869081",
   "metadata": {},
   "source": [
    "Ans:4\n",
    "\n",
    "LookUpError class is used to handle error when a key or an index used on a mapping or a sequence is invalid.\n",
    "\n",
    "KeyError:- It raised when a key is not found in a mapping.\n",
    "\n",
    "IndexError:- It raised when a sequence reference is out of range."
   ]
  },
  {
   "cell_type": "markdown",
   "id": "97a3d5e0-4435-4a3f-bf4c-fc95c0664c4a",
   "metadata": {},
   "source": [
    "Ans:5\n",
    "\n",
    "ImportError is an exception that is raised when an import statement fails to load a class from a module.\n",
    "\n",
    "ModuleNotFoundError is a subclass of ImportError, it raised when Python cannot find a module in the Python path."
   ]
  },
  {
   "cell_type": "markdown",
   "id": "207273a2-4346-4341-8c2a-53f71466d7ce",
   "metadata": {},
   "source": [
    "Ans:6\n",
    "\n",
    "Some best practices for exception handling in python are:---\n",
    "\n",
    "Use try-except block to catch and handle the exceptions. Use else block to execute code that depends up the successful execution of the try block. Use finally block to execute code that must run regardless of the outcome of the try block.\n",
    "\n",
    "\n",
    "Use built-in exceptions or custom exceptions that inherits exception or its subclasses.\n",
    "\n",
    "Use specific exceptions that match the error condition."
   ]
  },
  {
   "cell_type": "code",
   "execution_count": null,
   "id": "af91ebd4-4008-46d1-8f18-c471e0dc8d46",
   "metadata": {},
   "outputs": [],
   "source": []
  }
 ],
 "metadata": {
  "kernelspec": {
   "display_name": "Python 3 (ipykernel)",
   "language": "python",
   "name": "python3"
  },
  "language_info": {
   "codemirror_mode": {
    "name": "ipython",
    "version": 3
   },
   "file_extension": ".py",
   "mimetype": "text/x-python",
   "name": "python",
   "nbconvert_exporter": "python",
   "pygments_lexer": "ipython3",
   "version": "3.10.8"
  }
 },
 "nbformat": 4,
 "nbformat_minor": 5
}
