{
 "cells": [
  {
   "cell_type": "markdown",
   "id": "4ca41a2f-1214-46b3-b139-9a11a1bcbab1",
   "metadata": {},
   "source": [
    "8 Feb Assignment-9"
   ]
  },
  {
   "cell_type": "markdown",
   "id": "4f1115f1-9f25-42ad-a5c7-702497f1c762",
   "metadata": {},
   "source": [
    "Only Answers are written:---"
   ]
  },
  {
   "cell_type": "markdown",
   "id": "ca45b90e-61a3-4bba-ac78-f9493566348e",
   "metadata": {},
   "source": [
    "Ans:1\n",
    "\n",
    "Abstraction hides unnecessary code details from the user. Also, when we don't want to give out sensitive parts of our code implementation and this is where data abstraction came.\n",
    "In this way, the user knows what he is doing but not how the work is being done."
   ]
  },
  {
   "cell_type": "raw",
   "id": "6333793f-a906-4982-aae9-ca54129d83a9",
   "metadata": {},
   "source": [
    "# Example:---\n",
    "\n",
    "# first.py\n",
    "\n",
    "def Add():\n",
    "    a = 4\n",
    "    b = 6\n",
    "    sum = a + b\n",
    "    print(\"Addition of a and b is: \", sum)\n",
    "    \n",
    "# second.py\n",
    "\n",
    "def Sub():\n",
    "    a = 6\n",
    "    b = 4\n",
    "    sub = a - b\n",
    "    print(\"Substraction of a and b is: \", sub)\n",
    "    \n",
    "# main.py\n",
    "\n",
    "import first, second\n",
    "first.Add()\n",
    "second.Sub()\n",
    "\n",
    "# Execute this code in python\n",
    "# After execution, we can access the services of first and second files in the main file without showing the implementation details to the users."
   ]
  },
  {
   "cell_type": "markdown",
   "id": "5da9a60d-70e5-47c7-bcda-142823789b2c",
   "metadata": {},
   "source": [
    "Ans:2"
   ]
  },
  {
   "cell_type": "markdown",
   "id": "e5197228-621e-4e6c-a84d-ababab78eaa8",
   "metadata": {},
   "source": [
    "ABSTRACTION :-\n",
    "It shows only useful data by providing the most necessary details.\n",
    "It focused mainly on what should be done.\n",
    "It hides complexity by giving you a more abstract picture.\n",
    "It helps you to partition the program into many independent portions.\n",
    "It solves problems at the design level.\n",
    "\n",
    "ENCAPSULATION :-\n",
    "It wraps code and data for necessary information.\n",
    "It focused on how it should be done.\n",
    "It hides internal work so that you can change it later.\n",
    "It is easy to change with new requirements.\n",
    "It solves problems at the implementation level."
   ]
  },
  {
   "cell_type": "markdown",
   "id": "5c0f4bbb-9779-4323-b3f5-a7a75a7d5336",
   "metadata": {},
   "source": [
    "Ans:3"
   ]
  },
  {
   "cell_type": "markdown",
   "id": "58b7f5da-b78e-408e-a0b9-fd1b7419e074",
   "metadata": {},
   "source": [
    "abc modules in python provides the infrastructure for defining Abtract Base Classes (ABCs), which are classes that cannot be instantiated and must have thier methods implemented by subclasses. It is used to ensure that subclasses follow a certain contract. It can also provide some common functionality for subclasses, such as default methods or class variables."
   ]
  },
  {
   "cell_type": "markdown",
   "id": "1169d86d-b306-4957-af86-8f313ae7a81d",
   "metadata": {},
   "source": [
    "Ans:4"
   ]
  },
  {
   "cell_type": "markdown",
   "id": "b175168b-c6d7-4254-af0a-2ff0fbbcb65b",
   "metadata": {},
   "source": [
    "we can achieve data abstraction by using 2 ways:--- 1- abstract class     2- interface"
   ]
  },
  {
   "cell_type": "markdown",
   "id": "a3ebcb7b-13c4-4e5d-9d1a-1158599ce20d",
   "metadata": {},
   "source": [
    "Ans:5"
   ]
  },
  {
   "cell_type": "markdown",
   "id": "87bb0bff-0c65-4eba-9987-a4e65eb87591",
   "metadata": {},
   "source": [
    "No, we cannot create an instance of an abstract class. If we try to do so, we will get a TypeError saying that the abstract class cannot be instantiated. This is because an abstract class is meant to be a blueprint or a template for other classes, not a concrete entity by itself. We can only create instances of subclasses that inherit from the abstract class and implement all of its abstract methods."
   ]
  },
  {
   "cell_type": "code",
   "execution_count": null,
   "id": "8a923f99-a9c2-4dd9-9297-a40560f8da79",
   "metadata": {},
   "outputs": [],
   "source": []
  }
 ],
 "metadata": {
  "kernelspec": {
   "display_name": "Python 3 (ipykernel)",
   "language": "python",
   "name": "python3"
  },
  "language_info": {
   "codemirror_mode": {
    "name": "ipython",
    "version": 3
   },
   "file_extension": ".py",
   "mimetype": "text/x-python",
   "name": "python",
   "nbconvert_exporter": "python",
   "pygments_lexer": "ipython3",
   "version": "3.10.8"
  }
 },
 "nbformat": 4,
 "nbformat_minor": 5
}
