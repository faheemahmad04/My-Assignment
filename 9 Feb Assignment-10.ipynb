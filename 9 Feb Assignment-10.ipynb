{
 "cells": [
  {
   "cell_type": "markdown",
   "id": "8d1eb72e-2c40-42a0-9049-f3a8937274b9",
   "metadata": {},
   "source": [
    "9 Feb Assignment-10"
   ]
  },
  {
   "cell_type": "markdown",
   "id": "299d27cf-cbb7-4b02-9e79-6dbaff0e31f9",
   "metadata": {},
   "source": [
    "Only Answers are written:---"
   ]
  },
  {
   "cell_type": "code",
   "execution_count": 4,
   "id": "31f50979-e287-467f-a62f-f031db776d45",
   "metadata": {},
   "outputs": [],
   "source": [
    "# Ans:1\n",
    "\n",
    "class Vehicle:\n",
    "    def __init__(self, name_of_vehicle, max_speed, average_of_vehicle):\n",
    "        self.name_of_vehicle = name_of_vehicle\n",
    "        self.max_speed = max_speed\n",
    "        self.average_of_vehicle = average_of_vehicle\n"
   ]
  },
  {
   "cell_type": "code",
   "execution_count": 15,
   "id": "d9814709-6dfa-4a92-b3c1-a6ffe97f38ea",
   "metadata": {},
   "outputs": [
    {
     "name": "stdout",
     "output_type": "stream",
     "text": [
      "Honda Civic has a sitting capacity of 5 people. It has 200 km/h full speed and its mileage is 15 km/L.\n"
     ]
    }
   ],
   "source": [
    "# Ans:2\n",
    "\n",
    "class Car(Vehicle):\n",
    "    def __init__(self, name_of_vehicle, max_speed, average_of_vehicle):\n",
    "        super().__init__(name_of_vehicle, max_speed, average_of_vehicle)  #by using this function we are restricting the overriding of two same method name\n",
    "        \n",
    "    def seating_capacity(self, capacity):\n",
    "        return f\"{self.name_of_vehicle} has a sitting capacity of {capacity} people. It has {self.max_speed} km/h full speed and its mileage is {self.average_of_vehicle} km/L.\"\n",
    "    \n",
    "c1 = Car(\"Honda Civic\", 200, 15)\n",
    "print(c1.seating_capacity(5))"
   ]
  },
  {
   "cell_type": "markdown",
   "id": "a95a57ba-140f-4fed-8dd5-cf5666905f1a",
   "metadata": {},
   "source": [
    "Ans:3"
   ]
  },
  {
   "cell_type": "markdown",
   "id": "37c70807-37ce-4576-b1fe-1d97cc93be73",
   "metadata": {},
   "source": [
    "MULTIPLE INHERITANCE:--- It contains multiple Parent Classes and only one Child Class."
   ]
  },
  {
   "cell_type": "code",
   "execution_count": 22,
   "id": "2ab65d5f-63ab-4a9b-8525-6916651e501f",
   "metadata": {},
   "outputs": [],
   "source": [
    "# Ans:3\n",
    "# Example:---\n",
    "\n",
    "class faheem:\n",
    "    Back = \"OracleDB and Java\"\n",
    "    def Backend(self):\n",
    "        return \"Backend Task is implemented by using: \", self.Back\n",
    "    \n",
    "class ahmad:\n",
    "    Front = \"HTML, CSS and JavaScript\"\n",
    "    def Frontend(self):\n",
    "        return \"Frontend Task is implemented by using: \", self.Front\n",
    "    \n",
    "class manager(faheem, ahmad):\n",
    "    def Show(self):\n",
    "        return \"Dynamic Website is Created.....\"\n",
    "    \n",
    "m = manager()\n"
   ]
  },
  {
   "cell_type": "code",
   "execution_count": 23,
   "id": "f3dac57e-18ac-44bf-ae6f-45666c94a901",
   "metadata": {},
   "outputs": [
    {
     "data": {
      "text/plain": [
       "('Backend Task is implemented by using: ', 'OracleDB and Java')"
      ]
     },
     "execution_count": 23,
     "metadata": {},
     "output_type": "execute_result"
    }
   ],
   "source": [
    "m.Backend()"
   ]
  },
  {
   "cell_type": "code",
   "execution_count": 24,
   "id": "82062798-f5b7-4789-a302-094e1f3bb61f",
   "metadata": {},
   "outputs": [
    {
     "data": {
      "text/plain": [
       "('Frontend Task is implemented by using: ', 'HTML, CSS and JavaScript')"
      ]
     },
     "execution_count": 24,
     "metadata": {},
     "output_type": "execute_result"
    }
   ],
   "source": [
    "m.Frontend()"
   ]
  },
  {
   "cell_type": "code",
   "execution_count": 26,
   "id": "a65073e2-f779-4f1e-8b3b-408841bd8379",
   "metadata": {},
   "outputs": [
    {
     "data": {
      "text/plain": [
       "'Dynamic Website is Created.....'"
      ]
     },
     "execution_count": 26,
     "metadata": {},
     "output_type": "execute_result"
    }
   ],
   "source": [
    "m.Show()"
   ]
  },
  {
   "cell_type": "markdown",
   "id": "4e232e05-12ec-48e7-a07f-56f475f970ae",
   "metadata": {},
   "source": [
    "Ans:4"
   ]
  },
  {
   "cell_type": "markdown",
   "id": "8cd37fe1-844f-46c2-ac01-d268214a10be",
   "metadata": {},
   "source": [
    "Getter and Setter are the methods that allow you to control the access and modification of an attribute in a class. A Getter retrieves the current value of an attribute, while a Setter changes the value of an attribute."
   ]
  },
  {
   "cell_type": "code",
   "execution_count": 6,
   "id": "f63977b0-a0f8-45bd-af08-8ce7ee1a0748",
   "metadata": {},
   "outputs": [],
   "source": [
    "# Ans:4\n",
    "# Example:---\n",
    "\n",
    "class Person:\n",
    "    def __init__(self, name, age):\n",
    "        self._name = name # private attribute\n",
    "        self._age = age  # private attribute\n",
    "\n",
    "    def get_name(self): # getter method\n",
    "        return self._name\n",
    "\n",
    "    def set_name(self, new_name): # setter method\n",
    "        self._name = new_name\n",
    "\n",
    "    def get_age(self): # getter method\n",
    "        return self._age\n",
    "\n",
    "    def set_age(self, new_age): # setter method\n",
    "        self._age = new_age\n",
    "\n",
    "p = Person(\"Faheem\", 23)\n"
   ]
  },
  {
   "cell_type": "code",
   "execution_count": 7,
   "id": "58ff8b72-6aca-45d8-b2f8-bda8e8e7a4b8",
   "metadata": {},
   "outputs": [
    {
     "data": {
      "text/plain": [
       "'Faheem'"
      ]
     },
     "execution_count": 7,
     "metadata": {},
     "output_type": "execute_result"
    }
   ],
   "source": [
    "p.get_name()"
   ]
  },
  {
   "cell_type": "code",
   "execution_count": 8,
   "id": "adb540d9-34ec-4e67-b905-bb02b1f49e2f",
   "metadata": {},
   "outputs": [
    {
     "data": {
      "text/plain": [
       "23"
      ]
     },
     "execution_count": 8,
     "metadata": {},
     "output_type": "execute_result"
    }
   ],
   "source": [
    "p.get_age()"
   ]
  },
  {
   "cell_type": "code",
   "execution_count": 9,
   "id": "61927dcb-ab8e-4d3e-9ec2-72f93b9c578a",
   "metadata": {},
   "outputs": [],
   "source": [
    "p.set_name(\"Ahmad\")"
   ]
  },
  {
   "cell_type": "code",
   "execution_count": 10,
   "id": "3bf83eb9-8633-4e94-8200-fca8e992d9f7",
   "metadata": {},
   "outputs": [
    {
     "data": {
      "text/plain": [
       "'Ahmad'"
      ]
     },
     "execution_count": 10,
     "metadata": {},
     "output_type": "execute_result"
    }
   ],
   "source": [
    "p.get_name()"
   ]
  },
  {
   "cell_type": "code",
   "execution_count": 11,
   "id": "97d9e6f6-fc89-4d9e-a94f-e5283a4d445c",
   "metadata": {},
   "outputs": [],
   "source": [
    "p.set_age(32)"
   ]
  },
  {
   "cell_type": "code",
   "execution_count": 13,
   "id": "c62b36e7-1dd1-4ba6-a834-2592b53e7663",
   "metadata": {},
   "outputs": [
    {
     "data": {
      "text/plain": [
       "32"
      ]
     },
     "execution_count": 13,
     "metadata": {},
     "output_type": "execute_result"
    }
   ],
   "source": [
    "p.get_age()"
   ]
  },
  {
   "cell_type": "markdown",
   "id": "71a56dc5-d1f2-4c5f-b55a-043c22786fc6",
   "metadata": {},
   "source": [
    "Ans:5"
   ]
  },
  {
   "cell_type": "markdown",
   "id": "5d01768c-43c1-476a-a3d0-76f1ccbfdd71",
   "metadata": {},
   "source": [
    "Whenever a class contains method name with same properties in both the Parent Class and the Child Class is called METHOD OVERRIDING."
   ]
  },
  {
   "cell_type": "code",
   "execution_count": 15,
   "id": "026bcf53-55ea-463b-b1e0-ed8d99de5f05",
   "metadata": {},
   "outputs": [
    {
     "data": {
      "text/plain": [
       "'This is the Child Class.'"
      ]
     },
     "execution_count": 15,
     "metadata": {},
     "output_type": "execute_result"
    }
   ],
   "source": [
    "# Ans:5\n",
    "# Example:---\n",
    "\n",
    "class A:\n",
    "    def Show(self):\n",
    "        return \"This is the Parent Class.\"\n",
    "        \n",
    "class B(A):\n",
    "    def Show(self):\n",
    "        return \"This is the Child Class.\"\n",
    "    \n",
    "object = B()\n",
    "object.Show()"
   ]
  },
  {
   "cell_type": "code",
   "execution_count": null,
   "id": "dc9af566-f83b-469b-b607-29924ffa21b3",
   "metadata": {},
   "outputs": [],
   "source": []
  }
 ],
 "metadata": {
  "kernelspec": {
   "display_name": "Python 3 (ipykernel)",
   "language": "python",
   "name": "python3"
  },
  "language_info": {
   "codemirror_mode": {
    "name": "ipython",
    "version": 3
   },
   "file_extension": ".py",
   "mimetype": "text/x-python",
   "name": "python",
   "nbconvert_exporter": "python",
   "pygments_lexer": "ipython3",
   "version": "3.10.8"
  }
 },
 "nbformat": 4,
 "nbformat_minor": 5
}
