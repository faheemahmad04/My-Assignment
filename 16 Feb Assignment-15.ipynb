{
 "cells": [
  {
   "cell_type": "markdown",
   "id": "3136dbcb-d64f-4269-8793-ea7677d4355a",
   "metadata": {},
   "source": [
    "16 Feb Assignment-15\n",
    "\n",
    "Only Answers are Written:---"
   ]
  },
  {
   "cell_type": "markdown",
   "id": "b0a79615-59b8-45cc-9987-7283fe38d01c",
   "metadata": {},
   "source": [
    "Ans:1\n",
    "\n",
    "Database is an organized collection of structured information or data, typically stored electronically in a computer system. It is usually controlled by a Database Management System.\n",
    "\n",
    "SQL database is the type of Relational Databse Management System that stores data in the form of tables composed of rows and columns. It uses Structured Query Language (SQL) to define and manipulate data. It has predefined schemas that required data to follow the same structure.\n",
    "\n",
    "NoSQL database is the type of Non-Relational Database Management System that stores data in various formates, such as Documents, Key-Value pairs, Graphs etc. It uses Syntaxes and Languages depends upon the type of database. It has dynamic schemas that allow data to have different structures."
   ]
  },
  {
   "cell_type": "markdown",
   "id": "6ec1c800-42ca-4f91-aa57-81a980756c6f",
   "metadata": {},
   "source": [
    "Ans:2\n",
    "\n",
    "CREATE, DROP, ALTER, and TRUNCATE are DDL (Data Definition Language) commands in SQL that are used to create, delete, modify, or remove database objects.\n",
    "\n",
    "CREATE:- This command is used to create a new table in SQL.\n",
    "\n",
    "for Eg.:- CREATE TABLE table_name (column1 datatype, column2 datatype, column3 datatype);\n",
    "\n",
    "DROP:- This command is used to remove an existing table from SQL.\n",
    "\n",
    "for Eg.:- DROP TABLE table_name;\n",
    "\n",
    "ALTER:- This command is used to add, delete, or change columns in an existing table.\n",
    "\n",
    "for Eg.:- ALTER TABLE table_name ADD column_name datatype;\n",
    "\n",
    "TRUNCATE:- This command is used to remove all rows from a table, but the structure of the table still exists.\n",
    "\n",
    "for Eg.:- TRUNCATE TABLE table_name;"
   ]
  },
  {
   "cell_type": "markdown",
   "id": "4cd1074a-db74-4e89-bc3c-5ff8127fb5ad",
   "metadata": {},
   "source": [
    "Ans:3\n",
    "\n",
    "INSERT, UPDATE, and DELETE are DML (Data Manipulation Language) commands in SQL that are used to insert, modify, or remove data from database tables.\n",
    "\n",
    "INSERT:- This command is used to insert data into a table.\n",
    "\n",
    "for Eg.:- INSERT INTO table_name (column1, column2, column3) VALUES (value1, value2, value3);\n",
    "\n",
    "UPDATE:- This command is used to update existing data within a table.\n",
    "\n",
    "for Eg.:- UPDATE table_name SET column1 = value1, column2 = value2 WHERE condition;\n",
    "\n",
    "DELETE:- This command is used to delete records from a database table.\n",
    "\n",
    "for Eg.:- DELETE FROM table_name WHERE condition;"
   ]
  },
  {
   "cell_type": "markdown",
   "id": "7459e567-eec8-454c-9b87-1c6990239a6d",
   "metadata": {},
   "source": [
    "Ans:4\n",
    "\n",
    "SELECT is a DQL (Data Query Language) command in SQL that is used to retrieve data from the database. It can be used to select specific columns, rows from a table.\n",
    "\n",
    "SELECT:- This command is used to retrieve all the columns and rows from a table.\n",
    "\n",
    "for eg.:- SELECT * FROM table_name;\n",
    "\n",
    "SELECT with WHERE:- This command is used to retrieve specific rows that match a condition.\n",
    "\n",
    "for eg.:- SELECT column1, column2 FROM table_name WHERE condition;\n",
    "\n",
    "SELECT with GROUP BY:- This command is used to group the rows by a column and apply an aggregate function.\n",
    "\n",
    "for eg.:- SELECT column1, column2, etc FROM table_name GROUP BY column1;\n",
    "\n",
    "SELECT with ORDER BY:- This command is used to sort the rows by a column in ascending or descending order.\n",
    "\n",
    "for eg.:- SELECT column1, column2, etc FROM table_name ORDER BY column1 ASC, column2 DESC;"
   ]
  },
  {
   "cell_type": "markdown",
   "id": "0e98cc9c-303c-4e20-ad48-934a25f036ed",
   "metadata": {},
   "source": [
    "Ans:5\n",
    "\n",
    "Primary Key:---\n",
    "\n",
    "The table with the primary key is called the referenced or parent table.\n",
    "\n",
    "It ensures that each row in a table has a unique identity and prevents duplicate values.\n",
    "\n",
    "It does not allow null values.\n",
    "\n",
    "It is a combination of a NOT NULL and UNIQUE constraints. Uniquely identifies each row in a table.\n",
    "\n",
    "\n",
    "\n",
    "Foreign Key:---\n",
    "\n",
    "The table with the foreign key is called the child table.\n",
    "\n",
    "It ensures that the values in a column match the values in the primary key column of the referenced table.\n",
    "\n",
    "It can allow null values if the column is not defined as NOT NULL.\n",
    "\n",
    "It prevents actions that would destroy links between tables."
   ]
  },
  {
   "cell_type": "markdown",
   "id": "b25b6027-7145-4612-ab67-3a584526d055",
   "metadata": {},
   "source": [
    "Ans:6\n",
    "\n",
    "#Step:-1\n",
    "pip mysql-connector-python\n",
    "\n",
    "\n",
    "#Step:-2\n",
    "import mysql.connector\n",
    "\n",
    "#create a connection object\n",
    "\n",
    "CO = mysql.connector.connect(\n",
    "    \n",
    "    host = \"localhost\",\n",
    "    user = \"abc\",\n",
    "    password = \"password\"\n",
    ")\n",
    "\n",
    "print(CO)\n",
    "\n",
    "#connection is established\n",
    "\n",
    "\n",
    "\n",
    "\n",
    "\n",
    "cursor() method:---\n",
    "\n",
    "It is used to create a cursor object that can execute SQL statements and interact with the MySQL database.\n",
    "\n",
    "The cursor object is created from a connection object that represents the connection to the database.\n",
    "\n",
    "\n",
    "\n",
    "execute() method:---\n",
    "\n",
    "It is used to execute a SQL statement using the cursor object.\n",
    "\n",
    "A cursor object has various methods, such as execute(), executemany(), fetchone(), fetchall(), fetchmany(), etc.\n",
    "\n",
    "The execute() method takes a SQL query as a parameter and optionally a list or dictionary of parameters to bind to the query.\n",
    "\n",
    "The execute() method returns None and stores the result set in the cursor object."
   ]
  },
  {
   "cell_type": "markdown",
   "id": "3f686358-5b6f-4239-af35-f0f77393d188",
   "metadata": {},
   "source": [
    "Ans:7\n",
    "\n",
    "If our query includes sub-queries or Common Table Expressions (CTE), bear in mind that these will always be executed first before any action takes place on the main query. Nonetheless, the execution order of clauses within a CTE or subquery remains unchanged.\n",
    "\n",
    "Here is the order of execution of SQL clauses in an SQL query:---\n",
    "   \n",
    "FROM (including joins: INNER JOIN, LEFT JOIN, RIGHT JOIN, OUTER JOIN, CROSS JOIN, etc.)\n",
    "\n",
    "WHERE\n",
    "\n",
    "GROUP BY\n",
    "\n",
    "HAVING\n",
    "\n",
    "SELECT\n",
    "\n",
    "ORDER BY\n",
    "\n",
    "LIMIT"
   ]
  },
  {
   "cell_type": "code",
   "execution_count": null,
   "id": "7e821141-7ed8-4d91-9ccc-2ee0a45bc45a",
   "metadata": {},
   "outputs": [],
   "source": []
  }
 ],
 "metadata": {
  "kernelspec": {
   "display_name": "Python 3 (ipykernel)",
   "language": "python",
   "name": "python3"
  },
  "language_info": {
   "codemirror_mode": {
    "name": "ipython",
    "version": 3
   },
   "file_extension": ".py",
   "mimetype": "text/x-python",
   "name": "python",
   "nbconvert_exporter": "python",
   "pygments_lexer": "ipython3",
   "version": "3.10.8"
  }
 },
 "nbformat": 4,
 "nbformat_minor": 5
}
