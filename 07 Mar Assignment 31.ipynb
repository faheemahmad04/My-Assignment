{
 "cells": [
  {
   "cell_type": "markdown",
   "id": "58cc8a6c-5d7b-4ef3-910d-7638a2898567",
   "metadata": {},
   "source": [
    "07 Mar Assignment 31\n",
    "\n",
    "Both Questions and Answers are written:---"
   ]
  },
  {
   "cell_type": "markdown",
   "id": "7427edc7-5937-49fd-807d-dcbec4d1f4ba",
   "metadata": {},
   "source": [
    "Q1. What are the three measures of central tendency?"
   ]
  },
  {
   "cell_type": "markdown",
   "id": "fe4505a9-72b3-4ab7-b564-c8534854a68c",
   "metadata": {},
   "source": [
    "Ans: The three measures of central tendency are:\n",
    "\n",
    "Mean\n",
    "\n",
    "Median\n",
    "\n",
    "Mode"
   ]
  },
  {
   "cell_type": "code",
   "execution_count": null,
   "id": "5d5afcde-f270-42a1-ba86-bd5ebfc3c1d1",
   "metadata": {},
   "outputs": [],
   "source": []
  },
  {
   "cell_type": "markdown",
   "id": "17744a2c-a040-421d-a273-62d6c81faccb",
   "metadata": {},
   "source": [
    "Q2. What is the difference between the mean, median, and mode? How are they used to measure the central tendency of a dataset?"
   ]
  },
  {
   "cell_type": "markdown",
   "id": "ebd8ae55-80de-463f-9d75-47b6b981cbf4",
   "metadata": {},
   "source": [
    "Ans:\n",
    "\n",
    "Mean:- The mean, often called the average.\n",
    "\n",
    "Median:- The median is the middle value in a sorted list of numbers.\n",
    "\n",
    "Mode:- The mode is the number that appears most frequently in a dataset.\n",
    "\n"
   ]
  },
  {
   "cell_type": "code",
   "execution_count": null,
   "id": "4118530d-9336-4cdc-ae68-7bd0c0735647",
   "metadata": {},
   "outputs": [],
   "source": []
  },
  {
   "cell_type": "markdown",
   "id": "b00a97b0-6847-4fc6-b297-2970ec1e89fe",
   "metadata": {},
   "source": [
    "Q3. Measure the three measures of central tendency for the given height data:\n",
    "\n",
    "[178,177,176,177,178.2,178,175,179,180,175,178.9,176.2,177,172.5,178,176.5]"
   ]
  },
  {
   "cell_type": "markdown",
   "id": "17dbf80a-4f28-4712-8201-14f7d6127889",
   "metadata": {},
   "source": [
    "Ans:\n",
    "\n",
    "Mean:- 177.01875\n",
    "\n",
    "Median: 177.0\n",
    "\n",
    "Mode:- [178, 177]"
   ]
  },
  {
   "cell_type": "code",
   "execution_count": null,
   "id": "ba415fc0-fadd-4e21-93aa-de5a18fb98b9",
   "metadata": {},
   "outputs": [],
   "source": []
  },
  {
   "cell_type": "markdown",
   "id": "3817c726-8fe3-43a5-a058-bad24d3080d6",
   "metadata": {},
   "source": [
    "Q4. Find the standard deviation for the given data:\n",
    "\n",
    "[178,177,176,177,178.2,178,175,179,180,175,178.9,176.2,177,172.5,178,176.5]"
   ]
  },
  {
   "cell_type": "markdown",
   "id": "edfe5ec1-bc2e-4592-a864-d2d309bf26a7",
   "metadata": {},
   "source": [
    "Ans:\n",
    "\n",
    "Standard deviation:- 1.7885814036548633"
   ]
  },
  {
   "cell_type": "code",
   "execution_count": null,
   "id": "4053b7d5-1467-4615-b657-147a7ef0c778",
   "metadata": {},
   "outputs": [],
   "source": []
  },
  {
   "cell_type": "markdown",
   "id": "1c573f9b-b557-4a56-a6c5-56ae655e1cc4",
   "metadata": {},
   "source": [
    "Q5. How are measures of dispersion such as range, variance, and standard deviation used to describe the spread of a dataset? Provide an example."
   ]
  },
  {
   "cell_type": "markdown",
   "id": "e69dcb83-806b-435a-84e5-7da5bdd794ca",
   "metadata": {},
   "source": [
    "Ans: Range:- The range is the simplest measure of dispersion. It is calculated as the difference between the highest and lowest values in the dataset.\n",
    "\n",
    "Variance:- The variance measures calculates how far each number in the set is from the mean value, and then it squares the each deviated values and calucutes the mean.\n",
    "\n",
    "Standard Deviation:- The standard deviation is another measure of dispersion, which is simply the square root of the variance.\n",
    "\n",
    "For example:- \n",
    "\n",
    "dataset: {1, 2, 3, 4, 5}\n",
    "\n",
    "The range ---> 5 - 1 = 4\n",
    "\n",
    "The mean ---> (1+2+3+4+5)/5 = 3\n",
    "\n",
    "The variance ---> ((1-3)² + (2-3)² + (3-3)² + (4-3)² + (5-3)²)/5 = 2\n",
    "\n",
    "The standard deviation ---> √2 ≈ 1.41"
   ]
  },
  {
   "cell_type": "code",
   "execution_count": null,
   "id": "3b7626ae-2e84-4834-aafc-b32654f6df72",
   "metadata": {},
   "outputs": [],
   "source": []
  },
  {
   "cell_type": "markdown",
   "id": "f50bf16c-42c6-471d-851c-a2e43e17bfdd",
   "metadata": {},
   "source": [
    "Q6. What is a Venn diagram?"
   ]
  },
  {
   "cell_type": "markdown",
   "id": "9de2bcb6-cc1b-4327-809f-176f57b7dcfe",
   "metadata": {},
   "source": [
    "Ans: A Venn diagram is a diagram that shows all possible logical relations between a finite collection of different sets."
   ]
  },
  {
   "cell_type": "code",
   "execution_count": null,
   "id": "2964fa35-4f29-4950-b5b6-4fc5cccac1ed",
   "metadata": {},
   "outputs": [],
   "source": []
  },
  {
   "cell_type": "markdown",
   "id": "b9cdace1-4236-44c6-8bd6-00571e4fa50d",
   "metadata": {},
   "source": [
    "Q7. For the two given sets A = (2,3,4,5,6,7) & B = (0,2,6,8,10). Find:\n",
    "\n",
    "(i) A n B\n",
    "\n",
    "(ii) A ⋃ B"
   ]
  },
  {
   "cell_type": "markdown",
   "id": "45b40b96-e8e3-49ff-bfcd-ae8abd006f57",
   "metadata": {},
   "source": [
    "Ans: (i) A n B = {2,6}\n",
    "\n",
    "(ii) A ⋃ B = {0,2,3,4,5,6,7,8,10}"
   ]
  },
  {
   "cell_type": "code",
   "execution_count": null,
   "id": "4cb99013-8dad-4659-b3ed-ccaf0b4419ba",
   "metadata": {},
   "outputs": [],
   "source": []
  },
  {
   "cell_type": "markdown",
   "id": "b8822105-152d-4bdd-b4ba-27487b6b075b",
   "metadata": {},
   "source": [
    "Q8. What do you understand about skewness in data?"
   ]
  },
  {
   "cell_type": "markdown",
   "id": "c09ab21e-bc12-4437-881d-4dff37d86b2f",
   "metadata": {},
   "source": [
    "Ans: Skewness is a measure of the asymmetry of the probability distribution of a real-valued random variable about its mean. In other words, skewness tells us the amount and direction of skew."
   ]
  },
  {
   "cell_type": "code",
   "execution_count": null,
   "id": "edbb9d2e-b01d-429e-937c-fa4c34a006aa",
   "metadata": {},
   "outputs": [],
   "source": []
  },
  {
   "cell_type": "markdown",
   "id": "031d0037-7768-4a15-91be-c874b3a62ec2",
   "metadata": {},
   "source": [
    "Q9. If a data is right skewed then what will be the position of median with respect to mean?"
   ]
  },
  {
   "cell_type": "markdown",
   "id": "2a5c0b0f-8a90-4f9c-946a-2da0dcbc0aaf",
   "metadata": {},
   "source": [
    "Ans: The position of median will be right side with respect to mean.\n",
    "\n",
    "mode > mean > median"
   ]
  },
  {
   "cell_type": "code",
   "execution_count": null,
   "id": "3a52a6af-e94c-4b63-8863-61fcd14162d8",
   "metadata": {},
   "outputs": [],
   "source": []
  },
  {
   "cell_type": "markdown",
   "id": "bd20fa6b-4cc5-4798-b755-b18977b37a78",
   "metadata": {},
   "source": [
    "Q10. Explain the difference between covariance and correlation. How are these measures used in statistical analysis?"
   ]
  },
  {
   "cell_type": "markdown",
   "id": "2c3ae492-4a82-4d46-a84c-1b405d92163f",
   "metadata": {},
   "source": [
    "Ans: \n",
    "\n",
    "Covariance:- Covariance measures how much two random variables vary together. It is a measure that indicates the extent to which two variables increase or decrease in parallel. Covariance does not measure the dependency between the variables and it is scale dependent (i.e., the covariance between two variables would be different if the scale of the variables is changed).\n",
    "\n",
    "Correlation:- Correlation measures both the strength and direction of the linear relationship between two variables. Correlation is a function of covariance and is scale invariant (i.e., it remains unchanged if all values are multiplied by a constant or undergo a similar linear transformation). Correlation values are standardized and fall between -1 and +1.\n",
    "\n",
    "eg:--\n",
    "\n",
    "Covariance: Suppose we have the following data:\n",
    "\n",
    "Hours Studied: [2, 4, 6, 8]\n",
    "\n",
    "Marks Obtained: [60, 80, 90, 95]\n",
    "\n",
    "We can see that as the number of hours studied increases, the marks obtained also increase. Therefore, we can say that these two variables have a positive covariance.\n",
    "\n",
    "Correlation: Now, let’s calculate the correlation coefficient (Pearson’s r) for the same data:\n",
    "\n",
    "The correlation coefficient is a value between -1 and 1 that indicates the strength and direction of the relationship between the variables. In this case, because both variables increase together, we would expect a positive correlation coefficient close to 1."
   ]
  },
  {
   "cell_type": "code",
   "execution_count": null,
   "id": "b175f0a8-ca97-4b42-959d-ef174ee8c317",
   "metadata": {},
   "outputs": [],
   "source": []
  },
  {
   "cell_type": "markdown",
   "id": "a6fef73c-f28c-4cda-a3cd-80934c78503f",
   "metadata": {},
   "source": [
    "Q11. What is the formula for calculating the sample mean? Provide an example calculation for a dataset."
   ]
  },
  {
   "cell_type": "markdown",
   "id": "737a8b9d-e787-40f0-a293-f1da6368b40b",
   "metadata": {},
   "source": [
    "Ans: The formula for calculating the sample mean = sum of all the sample elements / number of all the sample elements.\n",
    "\n",
    "Lets consider a simple dataset: {4, 8, 6, 5, 3, 2}\n",
    "\n",
    "Using the formula above, we can calculate the sample mean as follows:\n",
    "\n",
    "x = (4+8+6+5+3+2) / 6\n",
    "\n",
    "x = 4.6\n",
    "\n",
    "So, the sample mean of this dataset is 4.6"
   ]
  },
  {
   "cell_type": "code",
   "execution_count": null,
   "id": "41f44bfa-31b8-42b4-8c4f-f47d6024a33c",
   "metadata": {},
   "outputs": [],
   "source": []
  },
  {
   "cell_type": "markdown",
   "id": "1e791f9f-83c6-4935-bc56-7bd6ad6c84f5",
   "metadata": {},
   "source": [
    "Q12. For a normal distribution data what is the relationship between its measure of central tendency?"
   ]
  },
  {
   "cell_type": "markdown",
   "id": "96e05a7b-823a-4155-9207-c86676a68ecc",
   "metadata": {},
   "source": [
    "Ans: In a normal distribution, the mean, median, and mode are all equal. This is because a normal distribution is symmetric about the mean."
   ]
  },
  {
   "cell_type": "code",
   "execution_count": null,
   "id": "5fa40a19-e7c2-488d-bb2f-d6199f1c531d",
   "metadata": {},
   "outputs": [],
   "source": []
  },
  {
   "cell_type": "markdown",
   "id": "4a337da0-049d-40e8-9067-36dd05b4b746",
   "metadata": {},
   "source": [
    "Q13. How is covariance different from correlation?"
   ]
  },
  {
   "cell_type": "markdown",
   "id": "39af0057-9fef-48b3-a07b-05162d724dae",
   "metadata": {},
   "source": [
    "Ans: Both describes the relation between two variables, however, they convey different types of information about the relationship between two variables.\n",
    "\n",
    "Covariance give us insights about the direction of a relationship between two variables.\n",
    "\n",
    "Correlation provides both the direction and the strength of the relationship between two variables."
   ]
  },
  {
   "cell_type": "code",
   "execution_count": null,
   "id": "dbf889d0-640b-4bdd-9bd8-96e069958171",
   "metadata": {},
   "outputs": [],
   "source": []
  },
  {
   "cell_type": "markdown",
   "id": "8afca531-1a1c-4a0a-8d52-96b9330d478d",
   "metadata": {},
   "source": [
    "Q14. How do outliers affect measures of central tendency and dispersion? Provide an example."
   ]
  },
  {
   "cell_type": "markdown",
   "id": "cfdb6950-d3f9-4e43-bac4-7f2878738c8e",
   "metadata": {},
   "source": [
    "Ans: \n",
    "\n",
    "Central Tendency:--\n",
    "\n",
    "Mean:- The mean is highly sensitive to outliers. A single outlier can shift the mean significantly if it’s far from the other values in the dataset.\n",
    "\n",
    "Median:- The median is less sensitive to outliers.\n",
    "\n",
    "Mode:- The mode is not affected by outliers.\n",
    "\n",
    "Dispersion:--\n",
    "\n",
    "Range:- The range is highly sensitive to outliers as it only considers the minimum and maximum values in a dataset.\n",
    "\n",
    "Variance and Standard Deviation:- Both are sensitive to outliers as they are based on the mean of the dataset.\n",
    "\n",
    "For example:-\n",
    "\n",
    "dataset of ages: {6, 7, 7, 8, 8, 9, 9, 10, 10, 11}\n",
    "\n",
    "mean = 8.5\n",
    "\n",
    "standard deviation = 1.58\n",
    "\n",
    "If we add an outlier age of 60 \n",
    "\n",
    "new mean = 14.36\n",
    "\n",
    "new standard deviation = 15.68"
   ]
  },
  {
   "cell_type": "code",
   "execution_count": null,
   "id": "7d7db1f5-8292-4fb2-b060-1c1f161c2162",
   "metadata": {},
   "outputs": [],
   "source": []
  }
 ],
 "metadata": {
  "kernelspec": {
   "display_name": "Python 3 (ipykernel)",
   "language": "python",
   "name": "python3"
  },
  "language_info": {
   "codemirror_mode": {
    "name": "ipython",
    "version": 3
   },
   "file_extension": ".py",
   "mimetype": "text/x-python",
   "name": "python",
   "nbconvert_exporter": "python",
   "pygments_lexer": "ipython3",
   "version": "3.10.8"
  }
 },
 "nbformat": 4,
 "nbformat_minor": 5
}
