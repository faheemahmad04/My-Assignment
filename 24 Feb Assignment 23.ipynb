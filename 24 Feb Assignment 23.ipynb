{
 "cells": [
  {
   "cell_type": "markdown",
   "id": "212b0a94-84d4-4378-902e-e07f6c8ce2b4",
   "metadata": {},
   "source": [
    "24 Feb Assignment 23\n",
    "\n",
    "Both Questions and Answers are written:---"
   ]
  },
  {
   "cell_type": "markdown",
   "id": "f885685a-8bee-4d8b-9255-14ee67fe2746",
   "metadata": {},
   "source": [
    "Q1. List any five functions of the pandas library with execution."
   ]
  },
  {
   "cell_type": "markdown",
   "id": "367ec641-d22e-4fe0-8e68-96ef8bac76f0",
   "metadata": {},
   "source": [
    "Ans: \n",
    "\n",
    "1- read_csv():- This function is used to load data from a CSV file into a pandas DataFrame. For example, we can execute the following code to read a CSV file named data.csv:-\n",
    "\n",
    "example:- \n",
    "\n",
    "import pandas as pd\n",
    "\n",
    "df = pd.read_csv('data.csv')\n",
    "\n",
    "2- head():- This function allows us to view the first five rows of a DataFrame. We can execute the following code to see the first three rows of a DataFrame df:-\n",
    "\n",
    "example:-\n",
    "\n",
    "df = pd.read_csv('data.csv')\n",
    "\n",
    "print(df.head(3))\n",
    "\n",
    "3- describe(): This function generates descriptive statistics of a DataFrame, such as count, mean, standard deviation, minimum, and maximum values. We can execute the following code to get the summary statistics of a DataFrame df:-\n",
    "\n",
    "example:-\n",
    "\n",
    "df = pd.read_csv('data.csv')\n",
    "\n",
    "print(df.describe())\n",
    "\n",
    "4- groupby(): This function is used to group data based on one or more columns, allowing us to perform aggregate operations on the grouped data. We can execute the following code to group a DataFrame df by the ‘A’ column and calculate the average of the ‘B’ column for each category:-\n",
    "\n",
    "example:-\n",
    "\n",
    "df = pd.read_csv('data.csv')\n",
    "\n",
    "grouped_df = df.groupby('A')['B'].mean()\n",
    "\n",
    "print(grouped_df)\n",
    "\n",
    "5- plot(): This function is used to create various types of plots, such as line plots, bar plots, and scatter plots, from a DataFrame. We can execute the following code to create a line plot of the ‘A’ column against the ‘B’ column in a DataFrame df:-\n",
    "\n",
    "example:-\n",
    "\n",
    "df = pd.read_csv('data.csv')\n",
    "\n",
    "df.plot(x='B', y='A', kind='line')\n"
   ]
  },
  {
   "cell_type": "code",
   "execution_count": null,
   "id": "9a8fcd93-fc56-4176-b5e5-b5f3071bebba",
   "metadata": {},
   "outputs": [],
   "source": []
  },
  {
   "cell_type": "markdown",
   "id": "9ec298dd-7d01-4bfb-9209-203b9b1015b3",
   "metadata": {},
   "source": [
    "Q2. Given a Pandas DataFrame df with columns 'A', 'B', and 'C', write a Python function to re-index the\n",
    "DataFrame with a new index that starts from 1 and increments by 2 for each row."
   ]
  },
  {
   "cell_type": "code",
   "execution_count": 33,
   "id": "99581965-20ba-474f-a6a0-2d95d0e8a207",
   "metadata": {},
   "outputs": [
    {
     "name": "stdout",
     "output_type": "stream",
     "text": [
      "   A  B   C\n",
      "1  1  5   9\n",
      "3  2  6  10\n",
      "5  3  7  11\n",
      "7  4  8  12\n"
     ]
    }
   ],
   "source": [
    "# Ans:\n",
    "import pandas as pd\n",
    "\n",
    "df = pd.DataFrame({\"A\": [1,2,3,4],\n",
    "                  \"B\": [5,6,7,8],\n",
    "                  \"C\": [9,10,11,12]})\n",
    "\n",
    "new_index = pd.Index(range(1, len(df) * 2, 2))\n",
    "df = df.set_index(new_index)\n",
    "\n",
    "print(df)"
   ]
  },
  {
   "cell_type": "code",
   "execution_count": null,
   "id": "c25f5c50-22d2-450e-a8e3-ff007b9065dd",
   "metadata": {},
   "outputs": [],
   "source": []
  },
  {
   "cell_type": "markdown",
   "id": "9243d59d-9840-4935-9a7e-2f0b99858e72",
   "metadata": {},
   "source": [
    "Q3. You have a Pandas DataFrame df with a column named 'Values'. Write a Python function that iterates over the DataFrame and calculates the sum of the first three values in the 'Values' column. The function should print the sum to the console."
   ]
  },
  {
   "cell_type": "code",
   "execution_count": 36,
   "id": "3a32f82d-cd08-41a4-b416-83fcb2af3e58",
   "metadata": {},
   "outputs": [
    {
     "name": "stdout",
     "output_type": "stream",
     "text": [
      "The sum of the first three values in the 'Values' column is: 60\n"
     ]
    }
   ],
   "source": [
    "# Ans:\n",
    "import pandas as pd\n",
    "\n",
    "df = pd.DataFrame({\"Values\": [10, 20, 30, 40, 50]})\n",
    "\n",
    "sum_of_first_three = sum(df['Values'][:3])\n",
    "print(f\"The sum of the first three values in the 'Values' column is: {sum_of_first_three}\")"
   ]
  },
  {
   "cell_type": "code",
   "execution_count": null,
   "id": "b8437265-7c8e-4588-8ed5-3593f1e12806",
   "metadata": {},
   "outputs": [],
   "source": []
  },
  {
   "cell_type": "markdown",
   "id": "0a7ecbb4-155a-41dc-b5a2-dd40435f78c8",
   "metadata": {},
   "source": [
    "Q4. Given a Pandas DataFrame df with a column 'Text', write a Python function to create a new column 'Word_Count' that contains the number of words in each row of the 'Text' column."
   ]
  },
  {
   "cell_type": "code",
   "execution_count": 12,
   "id": "7051d34b-bc9d-4cd4-be8b-500d13a3aaab",
   "metadata": {},
   "outputs": [
    {
     "name": "stdout",
     "output_type": "stream",
     "text": [
      "                         Text  Word_Count\n",
      "0  This is my sample sentence           5\n",
      "1           My name is faheem           4\n",
      "2   This is my another sample           5\n",
      "3         Ahmad is my surname           4\n"
     ]
    }
   ],
   "source": [
    "# Ans:\n",
    "import pandas as pd\n",
    "\n",
    "df = pd.DataFrame({\"Text\" : [\"This is my sample sentence\", \"My name is faheem\", \"This is my another sample\", \"Ahmad is my surname\"]})\n",
    "\n",
    "df[\"Word_Count\"] = df[\"Text\"].apply(lambda x: len(str(x).split()))\n",
    "\n",
    "print(df)"
   ]
  },
  {
   "cell_type": "code",
   "execution_count": null,
   "id": "8becf496-dfde-477b-b8db-918951a0f215",
   "metadata": {},
   "outputs": [],
   "source": []
  },
  {
   "cell_type": "markdown",
   "id": "60779743-165e-46b1-94b7-ce67053dd7eb",
   "metadata": {},
   "source": [
    "Q5. How are DataFrame.size() and DataFrame.shape() different?"
   ]
  },
  {
   "cell_type": "markdown",
   "id": "a923268c-6f79-4635-ba5b-7d5aa8578561",
   "metadata": {},
   "source": [
    "Ans: \n",
    "DataFrame.size() method returns the total number of elements in the DataFrame. It counts the number of rows multiplied by the number of columns. For example, if a DataFrame has 5 rows and 2 columns, the size() method will return 10.\n",
    "\n",
    "DataFrame.shape() method returns a tuple representing the dimensionality of the DataFrame. It provides the number of rows and columns in the DataFrame. For example, if a DataFrame has 5 rows and 2 columns, the shape() method will return (5, 2)."
   ]
  },
  {
   "cell_type": "code",
   "execution_count": 13,
   "id": "fc983422-b3f4-431d-9779-ee767879978b",
   "metadata": {},
   "outputs": [
    {
     "name": "stdout",
     "output_type": "stream",
     "text": [
      "10\n"
     ]
    }
   ],
   "source": [
    "# examples:-\n",
    "import pandas as pd\n",
    "\n",
    "df = pd.DataFrame({\"A\": [1,2,3,4,5], \"B\": [6,7,8,9,10]})\n",
    "print(df.size)"
   ]
  },
  {
   "cell_type": "code",
   "execution_count": 14,
   "id": "d99d570f-e31c-4318-8f3d-3274e31cfb67",
   "metadata": {},
   "outputs": [
    {
     "name": "stdout",
     "output_type": "stream",
     "text": [
      "(5, 2)\n"
     ]
    }
   ],
   "source": [
    "# examples:-\n",
    "import pandas as pd\n",
    "\n",
    "df = pd.DataFrame({\"A\": [1,2,3,4,5], \"B\": [6,7,8,9,10]})\n",
    "print(df.shape)"
   ]
  },
  {
   "cell_type": "code",
   "execution_count": null,
   "id": "115d280b-8ecf-4fd9-84b2-0a756f408b7f",
   "metadata": {},
   "outputs": [],
   "source": []
  },
  {
   "cell_type": "markdown",
   "id": "64866684-66f9-4280-8d91-4fb9a369c7ee",
   "metadata": {},
   "source": [
    "Q6. Which function of pandas do we use to read an excel file?"
   ]
  },
  {
   "cell_type": "markdown",
   "id": "163a39f7-c06c-4e29-891b-259f66f314e1",
   "metadata": {},
   "source": [
    "Ans: To read an Excel file in Pandas, we use the read_excel() function."
   ]
  },
  {
   "cell_type": "code",
   "execution_count": null,
   "id": "fbc39032-4098-4940-a7d2-7684829bf2e4",
   "metadata": {},
   "outputs": [],
   "source": []
  },
  {
   "cell_type": "markdown",
   "id": "d5d97c0b-7f29-4813-852c-00831737ade2",
   "metadata": {},
   "source": [
    "Q7. You have a Pandas DataFrame df that contains a column named 'Email' that contains email addresses in the format 'username@domain.com'. Write a Python function that creates a new column 'Username' in df that contains only the username part of each email address."
   ]
  },
  {
   "cell_type": "code",
   "execution_count": 18,
   "id": "632adb90-3649-4143-a179-43ca9a2ffcb5",
   "metadata": {},
   "outputs": [
    {
     "name": "stdout",
     "output_type": "stream",
     "text": [
      "               Email Username\n",
      "0    Alice@gmail.com    Alice\n",
      "1  Bob@yahoomail.com      Bob\n",
      "2   Claire@gmail.com   Claire\n"
     ]
    }
   ],
   "source": [
    "# Ans:\n",
    "\n",
    "import pandas as pd\n",
    "\n",
    "df = pd.DataFrame({\"Email\":[\"Alice@gmail.com\", \"Bob@yahoomail.com\", \"Claire@gmail.com\"]})\n",
    "df[\"Username\"] = df[\"Email\"].str.split('@').str[0]\n",
    "                            \n",
    "print(df)"
   ]
  },
  {
   "cell_type": "code",
   "execution_count": null,
   "id": "08835400-50f4-404c-b06d-cd7d31c620cd",
   "metadata": {},
   "outputs": [],
   "source": []
  },
  {
   "cell_type": "markdown",
   "id": "cf1f1c5e-2d99-4dc4-94e3-7b7aec82fb2d",
   "metadata": {},
   "source": [
    "Q8. You have a Pandas DataFrame df with columns 'A', 'B', and 'C'. Write a Python function that selects all rows where the value in column 'A' is greater than 5 and the value in column 'B' is less than 10. The function should return a new DataFrame that contains only the selected rows."
   ]
  },
  {
   "cell_type": "code",
   "execution_count": 24,
   "id": "cb51c2f1-c66e-4685-9c50-68577b912d2a",
   "metadata": {},
   "outputs": [
    {
     "name": "stdout",
     "output_type": "stream",
     "text": [
      "   A  B  C\n",
      "1  8  2  7\n",
      "2  6  9  4\n",
      "4  9  1  2\n"
     ]
    }
   ],
   "source": [
    "# Ans: \n",
    "import pandas as pd\n",
    "\n",
    "df = pd.DataFrame({'A': [3,8,6,2,9], 'B': [5,2,9,3,1], 'C': [1,7,4,5,2]})\n",
    "selected_rows = df[(df['A'] > 5) & (df['B'] < 10)]\n",
    "\n",
    "print(selected_rows)"
   ]
  },
  {
   "cell_type": "code",
   "execution_count": null,
   "id": "7f69d3e2-3be1-468d-bc7a-a582fb7379bc",
   "metadata": {},
   "outputs": [],
   "source": []
  },
  {
   "cell_type": "markdown",
   "id": "b33d4c82-d394-4e2e-af93-5f8567355ae4",
   "metadata": {},
   "source": [
    "Q9. Given a Pandas DataFrame df with a column 'Values', write a Python function to calculate the mean, median, and standard deviation of the values in the 'Values' column."
   ]
  },
  {
   "cell_type": "code",
   "execution_count": 35,
   "id": "68e1b8d9-8135-4a6a-aacf-787f87726cb9",
   "metadata": {},
   "outputs": [
    {
     "name": "stdout",
     "output_type": "stream",
     "text": [
      "Mean:-\n",
      " Values    5.5\n",
      "dtype: float64\n",
      "\n",
      "\n",
      "Median:-\n",
      " Values    5.5\n",
      "dtype: float64\n",
      "\n",
      "\n",
      "standard deviation:-\n",
      " Values    2.44949\n",
      "dtype: float64\n"
     ]
    }
   ],
   "source": [
    "# Ans:\n",
    "import pandas as pd\n",
    "\n",
    "df = pd.DataFrame({\"Values\": [2,3,4,5,6,7,8,9]})\n",
    "print(\"Mean:-\\n\", df.mean())\n",
    "print(\"\\n\\nMedian:-\\n\", df.median())\n",
    "print(\"\\n\\nstandard deviation:-\\n\", df.std())"
   ]
  },
  {
   "cell_type": "code",
   "execution_count": null,
   "id": "9006e93e-fd62-43d2-a5e1-f25283c186f6",
   "metadata": {},
   "outputs": [],
   "source": []
  },
  {
   "cell_type": "markdown",
   "id": "5517bb32-b946-4033-aada-e7d3e4b06870",
   "metadata": {},
   "source": [
    "Q10. Given a Pandas DataFrame df with a column 'Sales' and a column 'Date', write a Python function to create a new column 'MovingAverage' that contains the moving average of the sales for the past 7 days for each row in the DataFrame. The moving average should be calculated using a window of size 7 and should include the current day."
   ]
  },
  {
   "cell_type": "code",
   "execution_count": 40,
   "id": "bc8f53fb-8e06-45f2-ac50-241593e26586",
   "metadata": {},
   "outputs": [
    {
     "name": "stdout",
     "output_type": "stream",
     "text": [
      "        Date  Sales  MovingAverage\n",
      "0 2023-09-01    100          100.0\n",
      "1 2023-09-02    110          105.0\n",
      "2 2023-09-03    120          110.0\n",
      "3 2023-09-04    130          115.0\n",
      "4 2023-09-05    140          120.0\n",
      "5 2023-09-06    150          125.0\n",
      "6 2023-09-07    160          130.0\n"
     ]
    }
   ],
   "source": [
    "# Ans:\n",
    "import pandas as pd\n",
    "\n",
    "data = {'Date': ['01-09-2023', '02-09-2023', '03-09-2023', '04-09-2023', '05-09-2023', '06-09-2023', '07-09-2023'],\n",
    "        'Sales': [100, 110, 120, 130, 140, 150, 160]}\n",
    "df = pd.DataFrame(data)\n",
    "\n",
    "df['Date'] = pd.to_datetime(df['Date'],dayfirst= True)\n",
    "\n",
    "# df = df.sort_values(by='Date')\n",
    "\n",
    "df['MovingAverage'] = df['Sales'].rolling(window=7, min_periods=1).mean()\n",
    "\n",
    "print(df)"
   ]
  },
  {
   "cell_type": "code",
   "execution_count": null,
   "id": "28fd57b9-1310-4061-bcd1-6dac6f91253b",
   "metadata": {},
   "outputs": [],
   "source": []
  },
  {
   "cell_type": "markdown",
   "id": "c8b76f77-6d0d-4272-babc-d7c7b46abda9",
   "metadata": {},
   "source": [
    "Q11. You have a Pandas DataFrame df with a column 'Date'. Write a Python function that creates a new column 'Weekday' in the DataFrame. The 'Weekday' column should contain the weekday name (e.g. Monday, Tuesday) corresponding to each date in the 'Date' column."
   ]
  },
  {
   "cell_type": "code",
   "execution_count": 48,
   "id": "ef34ce1b-3b8c-4035-9ea8-07d1fcbf87c0",
   "metadata": {},
   "outputs": [
    {
     "name": "stdout",
     "output_type": "stream",
     "text": [
      "        Date   Weekday\n",
      "0 2023-01-09    Monday\n",
      "1 2023-02-09  Thursday\n",
      "2 2023-03-09  Thursday\n",
      "3 2023-04-09    Sunday\n",
      "4 2023-05-09   Tuesday\n",
      "5 2023-06-09    Friday\n",
      "6 2023-07-09    Sunday\n"
     ]
    }
   ],
   "source": [
    "# Ans:\n",
    "import pandas as pd\n",
    "\n",
    "df = pd.DataFrame({'Date': ['01-09-2023', '02-09-2023', '03-09-2023', '04-09-2023', '05-09-2023', '06-09-2023', '07-09-2023']})\n",
    "\n",
    "df['Date'] = pd.to_datetime(df['Date'], yearfirst=True)\n",
    "\n",
    "df['Weekday'] = df['Date'].dt.strftime('%A')\n",
    "\n",
    "print(df)"
   ]
  },
  {
   "cell_type": "code",
   "execution_count": null,
   "id": "f235b8d1-30d5-40c4-a952-073037e52ec1",
   "metadata": {},
   "outputs": [],
   "source": []
  },
  {
   "cell_type": "markdown",
   "id": "cc13bb14-3b9e-43fa-b252-614b110963d8",
   "metadata": {},
   "source": [
    "Q12. Given a Pandas DataFrame df with a column 'Date' that contains timestamps, write a Python Q12. Given a Pandas DataFrame df with a column 'Date' that contains timestamps, write a Python\n",
    "function to select all rows where the date is between '2023-01-01' and '2023-01-31'.function to select all rows where the date is between '2023-01-01' and '2023-01-31'."
   ]
  },
  {
   "cell_type": "code",
   "execution_count": 49,
   "id": "f59b9ee8-35f0-4692-975e-7e0db844a47b",
   "metadata": {},
   "outputs": [
    {
     "name": "stdout",
     "output_type": "stream",
     "text": [
      "        Date\n",
      "0 2023-01-05\n",
      "1 2023-01-15\n"
     ]
    }
   ],
   "source": [
    "# Ans:\n",
    "import pandas as pd\n",
    "\n",
    "df = pd.DataFrame({'Date': ['2023-01-05', '2023-01-15', '2023-02-10', '2023-03-20']})\n",
    "\n",
    "df['Date'] = pd.to_datetime(df['Date'])\n",
    "\n",
    "start_date = '2023-01-01'\n",
    "end_date = '2023-01-31'\n",
    "\n",
    "selected_rows = df[(df['Date'] >= start_date) & (df['Date'] <= end_date)]\n",
    "\n",
    "print(selected_rows)"
   ]
  },
  {
   "cell_type": "code",
   "execution_count": null,
   "id": "b8f08c86-c96f-4f67-83c8-91abce83479f",
   "metadata": {},
   "outputs": [],
   "source": []
  },
  {
   "cell_type": "markdown",
   "id": "ddbccebb-99ae-41f5-b0b1-7ba25443fada",
   "metadata": {},
   "source": [
    "Q13. To use the basic functions of pandas, what is the first and foremost necessary library that needs to be imported?"
   ]
  },
  {
   "cell_type": "markdown",
   "id": "51ef9330-a0b7-483f-82ff-b54f2168b2ad",
   "metadata": {},
   "source": [
    "Ans:- To use the basic functions of pandas, the first and foremost necessary library that needs to be imported is the pandas library itself. We can import it using the following import statement:-\n",
    "\n",
    "import pandas as pd"
   ]
  },
  {
   "cell_type": "code",
   "execution_count": null,
   "id": "f8e93624-02f3-4175-af7e-352b25ad616d",
   "metadata": {},
   "outputs": [],
   "source": []
  }
 ],
 "metadata": {
  "kernelspec": {
   "display_name": "Python 3 (ipykernel)",
   "language": "python",
   "name": "python3"
  },
  "language_info": {
   "codemirror_mode": {
    "name": "ipython",
    "version": 3
   },
   "file_extension": ".py",
   "mimetype": "text/x-python",
   "name": "python",
   "nbconvert_exporter": "python",
   "pygments_lexer": "ipython3",
   "version": "3.10.8"
  }
 },
 "nbformat": 4,
 "nbformat_minor": 5
}
