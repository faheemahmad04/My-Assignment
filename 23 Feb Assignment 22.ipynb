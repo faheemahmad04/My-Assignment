{
 "cells": [
  {
   "cell_type": "markdown",
   "id": "100540ae-8f34-41d4-8633-f0250cfde706",
   "metadata": {},
   "source": [
    "23 Feb Assignment 22\n",
    "\n",
    "Both Questions and Answers are written:---"
   ]
  },
  {
   "cell_type": "markdown",
   "id": "71d68ec5-4840-4674-909a-74befb59c382",
   "metadata": {},
   "source": [
    "Q1. Create a Pandas Series that contains the following data: 4, 8, 15, 16, 23, and 42. Then, print the series."
   ]
  },
  {
   "cell_type": "code",
   "execution_count": 8,
   "id": "12e135db-4864-4df2-b4e7-8cb7c24c8cc7",
   "metadata": {},
   "outputs": [
    {
     "name": "stdout",
     "output_type": "stream",
     "text": [
      "0     4\n",
      "1     8\n",
      "2    15\n",
      "3    16\n",
      "4    23\n",
      "5    42\n",
      "dtype: int64\n"
     ]
    }
   ],
   "source": [
    "# Ans: \n",
    "\n",
    "import pandas as pd\n",
    "\n",
    "data = [4, 8, 15, 16, 23, 42]\n",
    "\n",
    "series = pd.Series(data)\n",
    "\n",
    "print(series)"
   ]
  },
  {
   "cell_type": "code",
   "execution_count": null,
   "id": "82525bab-385f-4d92-9476-9a00ed93969f",
   "metadata": {},
   "outputs": [],
   "source": []
  },
  {
   "cell_type": "markdown",
   "id": "13e60a68-3e49-4b2c-ae82-3c9e531b03b9",
   "metadata": {},
   "source": [
    "Q2. Create a variable of list type containing 10 elements in it, and apply pandas.Series function on the variable print it."
   ]
  },
  {
   "cell_type": "code",
   "execution_count": 5,
   "id": "f1153c29-523c-4f63-8914-4a405de2ef20",
   "metadata": {},
   "outputs": [
    {
     "name": "stdout",
     "output_type": "stream",
     "text": [
      "0    1\n",
      "1    2\n",
      "2    3\n",
      "3    4\n",
      "4    5\n",
      "5    6\n",
      "6    7\n",
      "7    8\n",
      "8    9\n",
      "9    0\n",
      "dtype: int64\n"
     ]
    }
   ],
   "source": [
    "# Ans:\n",
    "\n",
    "import pandas as pd\n",
    "\n",
    "variable = [1,2,3,4,5,6,7,8,9,0]\n",
    "\n",
    "series = pd.Series(variable)\n",
    "\n",
    "print(series)"
   ]
  },
  {
   "cell_type": "code",
   "execution_count": null,
   "id": "9787775d-65ba-46b5-8a21-52bd7a450cd8",
   "metadata": {},
   "outputs": [],
   "source": []
  },
  {
   "cell_type": "markdown",
   "id": "dc344f15-4161-42c6-96da-eab3324c3d34",
   "metadata": {},
   "source": [
    "Q3. Create a Pandas DataFrame that contains the following data: Then, print the DataFrame."
   ]
  },
  {
   "cell_type": "code",
   "execution_count": 9,
   "id": "843c6333-e7b2-4405-87ed-c5e45d650826",
   "metadata": {},
   "outputs": [
    {
     "name": "stdout",
     "output_type": "stream",
     "text": [
      "     Name  Age  Gender\n",
      "0   Alice   25  Female\n",
      "1     Bob   30    Male\n",
      "2  Claire   27  Female\n"
     ]
    }
   ],
   "source": [
    "# Ans:\n",
    "\n",
    "import pandas as pd\n",
    "\n",
    "data = {\n",
    "\"Name\":[\"Alice\", \"Bob\", \"Claire\"],\n",
    "\"Age\": [25, 30, 27],\n",
    "\"Gender\": [\"Female\", \"Male\", \"Female\"]\n",
    "}\n",
    "\n",
    "df = pd.DataFrame(data)\n",
    "\n",
    "print(df)"
   ]
  },
  {
   "cell_type": "code",
   "execution_count": null,
   "id": "c0dfe700-3d68-4612-8c26-0e2c8dac8828",
   "metadata": {},
   "outputs": [],
   "source": []
  },
  {
   "cell_type": "markdown",
   "id": "d0ab4ea6-a0fb-426c-92b2-461c528d997c",
   "metadata": {},
   "source": [
    "Q4. What is ‘DataFrame’ in pandas and how is it different from pandas.series? Explain with an example."
   ]
  },
  {
   "cell_type": "markdown",
   "id": "fa8eb85c-f2bc-4d65-8f23-8894e6b6ec11",
   "metadata": {},
   "source": [
    "Ans: The DataFrame is a 2D data structure in pandas that can store data of different types in columns, like 2D array, or a table with rows and columns. \n",
    "\n",
    "Whereas Series is a 1D data structure in pandas that can store homogeneous data of the same type in an array-like object."
   ]
  },
  {
   "cell_type": "code",
   "execution_count": 17,
   "id": "b2e5aa8c-efef-479f-86aa-dbfa320a4525",
   "metadata": {},
   "outputs": [
    {
     "name": "stdout",
     "output_type": "stream",
     "text": [
      "DataFrame:-\n",
      "         0\n",
      "0   Alice\n",
      "1     Bob\n",
      "2  Claire\n",
      "\n",
      "\n",
      "Series:-\n",
      " 0     Alice\n",
      "1       Bob\n",
      "2    Claire\n",
      "dtype: object\n"
     ]
    }
   ],
   "source": [
    "# Example:---\n",
    "\n",
    "# DataFrame:-\n",
    "data = [\"Alice\", \"Bob\", \"Claire\"]\n",
    "df = pd.DataFrame(data)\n",
    "print(\"DataFrame:-\\n\", df)\n",
    "\n",
    "# Series:-\n",
    "data = [\"Alice\", \"Bob\", \"Claire\"]\n",
    "s = pd.Series(data)\n",
    "print(\"\\n\\nSeries:-\\n\", s)"
   ]
  },
  {
   "cell_type": "code",
   "execution_count": null,
   "id": "93f46da1-7d0a-4db2-aa2a-59ecf30bfdbe",
   "metadata": {},
   "outputs": [],
   "source": []
  },
  {
   "cell_type": "markdown",
   "id": "ca0d749d-ed5e-46d6-997b-f3f24d936aa4",
   "metadata": {},
   "source": [
    "Q5. What are some common functions you can use to manipulate data in a Pandas DataFrame? Can you give an example of when you might use one of these functions?"
   ]
  },
  {
   "cell_type": "markdown",
   "id": "e3874994-4b2a-4e0f-844b-34bfd47423b0",
   "metadata": {},
   "source": [
    "Ans: Here are some commonly used functions:---\n",
    "\n",
    "head():- This function allows us to view the first five rows of a DataFrame.\n",
    "\n",
    "tail():- Similar to head(), tail() allows us to view the last five rows of a DataFrame.\n",
    "\n",
    "info():- This function provides a summary of the DataFrame, including the number of non-null values in each column and the data types of the columns.\n",
    "\n",
    "describe():- This function generates descriptive statistics of the DataFrame, such as count, mean, standard deviation, minimum, and maximum values.\n",
    "\n",
    "shape():- This function returns the dimensions of the DataFrame as a tuple, representing the number of rows and columns.\n",
    "\n",
    "dropna():- This function is used to remove rows or columns with missing values (NaN) from the DataFrame.\n",
    "\n",
    "fillna():- This function allows us to replace empty cells with a value in the DataFrame.\n",
    "\n",
    "sort_values():- This function allows us to sort the DataFrame by one or more columns in either ascending or descending order.\n",
    "\n",
    "groupby():- This function is used to group the data based on one or more columns, allowing us to perform aggregate operations on the grouped data.\n",
    "\n",
    "merge():- This function is used to combine two or more DataFrames based on a common column.\n",
    "\n",
    "pivot_table(): This function creates a spreadsheet-style pivot table based on the DataFrame, allowing us to summarize and analyze the data."
   ]
  },
  {
   "cell_type": "code",
   "execution_count": null,
   "id": "68831f58-316f-4023-9757-0db20792efa0",
   "metadata": {},
   "outputs": [],
   "source": []
  },
  {
   "cell_type": "markdown",
   "id": "d0c01b90-1ea9-4353-a858-aeff65d55603",
   "metadata": {},
   "source": [
    "Q6. Which of the following is mutable in nature Series, DataFrame, Panel?"
   ]
  },
  {
   "cell_type": "markdown",
   "id": "4a446c74-dd3d-46ff-8018-8bc3faf22e78",
   "metadata": {},
   "source": [
    "Ans: Series and DataFrame are mutable in nature, which means that we can modify their values after they have been created.\n",
    "\n",
    "Panel is an immutable data structure in pandas, which means that its values cannot be changed once it is created."
   ]
  },
  {
   "cell_type": "code",
   "execution_count": null,
   "id": "6f2dfc34-a709-4adb-87d6-7cb6ca4b12f3",
   "metadata": {},
   "outputs": [],
   "source": []
  },
  {
   "cell_type": "markdown",
   "id": "7191fcfe-acfa-44fd-a472-f6e984449506",
   "metadata": {},
   "source": [
    "Q7. Create a DataFrame using multiple Series. Explain with an example."
   ]
  },
  {
   "cell_type": "code",
   "execution_count": 3,
   "id": "ff0a423d-e69f-4c09-b809-e5ad376c5fc3",
   "metadata": {},
   "outputs": [
    {
     "name": "stdout",
     "output_type": "stream",
     "text": [
      "      Courses  Fees Duration\n",
      "0         DSA  3500   9month\n",
      "1         DSM  3500   9month\n",
      "2      WebDev  3500   9month\n",
      "3  Statistics  free   9month\n"
     ]
    }
   ],
   "source": [
    "# Ans:\n",
    "\n",
    "import pandas as pd\n",
    "\n",
    "s1 = pd.Series([\"DSA\", \"DSM\", \"WebDev\", \"Statistics\"], name= \"Courses\")\n",
    "s2 = pd.Series([3500, 3500, 3500, \"free\"], name= \"Fees\")\n",
    "s3 = pd.Series([\"9month\", \"9month\", \"9month\", \"9month\"], name= \"Duration\")\n",
    "\n",
    "df = pd.concat([s1, s2, s3], axis = 1)\n",
    "               \n",
    "print(df)\n",
    "\n",
    "\n",
    "# we've created three Series: s1, s2, s3.\n",
    "# then, we've used the pd.concat() function to combine these Series into a DataFrame.\n",
    "# then, we take axis=1 parameter to specifies that the Series should be merged as columns instead of rows."
   ]
  },
  {
   "cell_type": "code",
   "execution_count": null,
   "id": "2959a0bd-7393-478a-98f7-5613081f4ec1",
   "metadata": {},
   "outputs": [],
   "source": []
  }
 ],
 "metadata": {
  "kernelspec": {
   "display_name": "Python 3 (ipykernel)",
   "language": "python",
   "name": "python3"
  },
  "language_info": {
   "codemirror_mode": {
    "name": "ipython",
    "version": 3
   },
   "file_extension": ".py",
   "mimetype": "text/x-python",
   "name": "python",
   "nbconvert_exporter": "python",
   "pygments_lexer": "ipython3",
   "version": "3.10.8"
  }
 },
 "nbformat": 4,
 "nbformat_minor": 5
}
