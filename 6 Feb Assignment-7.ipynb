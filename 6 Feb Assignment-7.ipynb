{
 "cells": [
  {
   "cell_type": "markdown",
   "id": "aa07a2e2-9047-48e6-889b-8d5c29911de7",
   "metadata": {},
   "source": [
    "6 Feb Assignment-7"
   ]
  },
  {
   "cell_type": "markdown",
   "id": "0bfcfc5c-1938-49b6-b5ee-9cccf6f264fd",
   "metadata": {},
   "source": [
    "Only answers are written:---"
   ]
  },
  {
   "cell_type": "code",
   "execution_count": 1,
   "id": "87dbb442-5987-4553-87ef-4178e8eb7121",
   "metadata": {},
   "outputs": [],
   "source": [
    "# Ans:1\n",
    "\n",
    "list1 = [1,2,3,4, [44,55,66, True], False, (34,56,78,89,34), {1,2,3,3,2,1}, {1:34, \"key2\": [55, 67, 78, 89], 4: (45, 22, 61, 34)}, [56, 'data science'], 'Machine Learning']\n",
    "\n",
    "\n",
    "def test(list1):\n",
    "    flat_list = []\n",
    "    for i in list1:\n",
    "        if type(i) == int:\n",
    "            flat_list.append(i)\n",
    "            \n",
    "        elif type(i) == float:\n",
    "            flat_list.append(i)\n",
    "            \n",
    "        elif type(i) == list:\n",
    "            flat_list.extend(test(i))\n",
    "            \n",
    "        elif type(i) == tuple:\n",
    "            flat_list.extend(i)\n",
    "            \n",
    "        elif type(i) == set:\n",
    "            flat_list.extend(i)\n",
    "            \n",
    "        elif type(i) == dict:\n",
    "            flat_list.extend(test(i.values()))\n",
    "            flat_list.extend(test(i.keys()))\n",
    "            \n",
    "            \n",
    "    return flat_list"
   ]
  },
  {
   "cell_type": "code",
   "execution_count": 2,
   "id": "68d52ce7-9c83-450d-8a1b-f96a229a669a",
   "metadata": {},
   "outputs": [
    {
     "data": {
      "text/plain": [
       "[1,\n",
       " 2,\n",
       " 3,\n",
       " 4,\n",
       " 44,\n",
       " 55,\n",
       " 66,\n",
       " 34,\n",
       " 56,\n",
       " 78,\n",
       " 89,\n",
       " 34,\n",
       " 1,\n",
       " 2,\n",
       " 3,\n",
       " 34,\n",
       " 55,\n",
       " 67,\n",
       " 78,\n",
       " 89,\n",
       " 45,\n",
       " 22,\n",
       " 61,\n",
       " 34,\n",
       " 1,\n",
       " 4,\n",
       " 56]"
      ]
     },
     "execution_count": 2,
     "metadata": {},
     "output_type": "execute_result"
    }
   ],
   "source": [
    "test(list1)"
   ]
  },
  {
   "cell_type": "markdown",
   "id": "51513385-90eb-4fa2-98c1-27da6cbffd70",
   "metadata": {},
   "source": [
    "I am not able to return the product of all the numbers after creating a flat list. Sir, please help me to know the further code ."
   ]
  },
  {
   "cell_type": "markdown",
   "id": "6882aeb2-b2fb-45c3-a383-126391949737",
   "metadata": {},
   "source": [
    "Ans:2\n",
    "\n",
    "Sir, I am not able to do this question "
   ]
  }
 ],
 "metadata": {
  "kernelspec": {
   "display_name": "Python 3 (ipykernel)",
   "language": "python",
   "name": "python3"
  },
  "language_info": {
   "codemirror_mode": {
    "name": "ipython",
    "version": 3
   },
   "file_extension": ".py",
   "mimetype": "text/x-python",
   "name": "python",
   "nbconvert_exporter": "python",
   "pygments_lexer": "ipython3",
   "version": "3.10.8"
  }
 },
 "nbformat": 4,
 "nbformat_minor": 5
}
