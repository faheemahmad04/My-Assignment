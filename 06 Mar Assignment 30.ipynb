{
 "cells": [
  {
   "cell_type": "markdown",
   "id": "c5561655-8e3d-4572-b12d-f281381f1b6d",
   "metadata": {},
   "source": [
    "06 Mar Assignment 30\n",
    "\n",
    "Both Questions and Answers are written:---"
   ]
  },
  {
   "cell_type": "markdown",
   "id": "db2894ca-a528-4550-9ca6-854baa3b5adc",
   "metadata": {},
   "source": [
    "Q1. What is Statistics?"
   ]
  },
  {
   "cell_type": "markdown",
   "id": "6543b41f-7052-469e-a6a1-1b20cf4f06c4",
   "metadata": {},
   "source": [
    "Ans: Statistics gives us methods of gaining knowledge from data. It is used in all kinds of science and business applications. It gives us more accurate knowledge which helps us make better decisions. It can focus on making predictions about what will happen in the future. It can also focus on explaining how different things are connected."
   ]
  },
  {
   "cell_type": "code",
   "execution_count": null,
   "id": "ff8c0b7e-471c-467b-9479-e0840dae5026",
   "metadata": {},
   "outputs": [],
   "source": []
  },
  {
   "cell_type": "markdown",
   "id": "297741c7-df10-4f06-b164-c0d9e014f502",
   "metadata": {},
   "source": [
    "Q2. Define the different types of statistics and give an example of when each type might be used."
   ]
  },
  {
   "cell_type": "markdown",
   "id": "ea6829ab-ba2b-4e7d-9f35-5eac46e9be65",
   "metadata": {},
   "source": [
    "Ans: There are mainly two types of statistics:\n",
    "\n",
    "Descriptive Statistics\n",
    "\n",
    "Inferential Statistics\n",
    "\n",
    "Descriptive statistics gives us insight into data without having to look at all of it in detail.\n",
    "\n",
    "Inferential statistics methods rely on probability calculation and probability distributions."
   ]
  },
  {
   "cell_type": "code",
   "execution_count": null,
   "id": "1258708d-ba41-4b44-9747-b73b289343b7",
   "metadata": {},
   "outputs": [],
   "source": []
  },
  {
   "cell_type": "markdown",
   "id": "10881440-d7a4-4f67-90ec-4f5fef9ef0f3",
   "metadata": {},
   "source": [
    "Q3. What are the different types of data and how do they differ from each other? Provide an example of each type of data."
   ]
  },
  {
   "cell_type": "markdown",
   "id": "a4c36cdc-5b2b-4995-973c-7fffb2e11f16",
   "metadata": {},
   "source": [
    "Ans: There are mainly two types of data;\n",
    "\n",
    "Quantative (numerical) Data: Information about something that can be described directly by numbers.\n",
    "\n",
    "Examples:\n",
    "\n",
    "Income\n",
    "Age\n",
    "Height\n",
    "\n",
    "Qualitative (categorical) Data: Information about something that can't be described directly by numbers.\n",
    "\n",
    "Examples:\n",
    "\n",
    "Brands\n",
    "Nationality\n",
    "Professions"
   ]
  },
  {
   "cell_type": "code",
   "execution_count": null,
   "id": "515a05b9-b03d-47da-b2c7-5da70fba537b",
   "metadata": {},
   "outputs": [],
   "source": []
  },
  {
   "cell_type": "markdown",
   "id": "b329ada7-915b-44ee-8fe4-47beb7f9d7ae",
   "metadata": {},
   "source": [
    "Q4. Categorise the following datasets with respect to quantitative and qualitative data types:\n",
    "\n",
    "(i) Grading in exam: A+, A, B+, B, C+, C, D, E\n",
    "\n",
    "(ii) Colour of mangoes: yellow, green, orange, red\n",
    "\n",
    "(iii) Height data of a class: [178.9, 179, 179.5, 176, 177.2, 178.3, 175.8,...]\n",
    "\n",
    "(iv) Number of mangoes exported by a farm: [500, 600, 478, 672, ...]"
   ]
  },
  {
   "cell_type": "markdown",
   "id": "64e39be0-f50b-42fb-abea-d9ccecc6df1b",
   "metadata": {},
   "source": [
    "Ans:\n",
    "\n",
    "(i) Qualitative data\n",
    "\n",
    "(ii) Qualitative data\n",
    "\n",
    "(iii) Quantative data\n",
    "\n",
    "(iv) Quantative data"
   ]
  },
  {
   "cell_type": "code",
   "execution_count": null,
   "id": "b5413176-65a7-4f9f-a81a-a26ece6e78f3",
   "metadata": {},
   "outputs": [],
   "source": []
  },
  {
   "cell_type": "markdown",
   "id": "157ddd41-b4b0-4871-9daa-b33f75601b4e",
   "metadata": {},
   "source": [
    "Q5. Explain the concept of levels of measurement and give an example of a variable for each level."
   ]
  },
  {
   "cell_type": "markdown",
   "id": "dcff18f7-cc61-4679-b88e-0074f34864bb",
   "metadata": {},
   "source": [
    "Ans: The measurement levels are also called measurement 'scales'. Different data types have different measurement levels.\n",
    "\n",
    "There are mainly four levels of measurement:\n",
    "\n",
    "Nominal Level: Qualitative data (Categorical) without any order. Examples:- Brand names, Countries, Colors etc\n",
    "\n",
    "Ordinal Level: Qualitative data (Categorical) in ordered (from low to high). but the precise \"distance\" between each is not meaningful. \n",
    "\n",
    "Examples:- Letter grade scales from F to A,  Military ranks,  Level of satisfaction with a product etc\n",
    "\n",
    "Interval Level: Quantative data (Numerical) in ordered and the distance between them is objectively meaningful. But there is no natural 0-value where the scale originates. \n",
    "\n",
    "Examples:- Years in a calendar,  Temperature measured in Fahrenheit etc\n",
    "\n",
    "Ratio Level: Quantative data (Numerical) in ordered and there is a consistent and meaningful distance between them. And it also has a natural 0-value. \n",
    "\n",
    "Examples:- Money,  Age,  Time  etc"
   ]
  },
  {
   "cell_type": "code",
   "execution_count": null,
   "id": "8835ddb5-16e9-4e17-b68c-4e05c396dd72",
   "metadata": {},
   "outputs": [],
   "source": []
  },
  {
   "cell_type": "markdown",
   "id": "7bb1ab56-38b7-47a0-af9e-57da853b80af",
   "metadata": {},
   "source": [
    "Q6. Why is it important to understand the level of measurement when analyzing data? Provide an example to illustrate your answer."
   ]
  },
  {
   "cell_type": "markdown",
   "id": "579f8c83-7dfd-4b94-ab83-63cd384f5d25",
   "metadata": {},
   "source": [
    "Ans:  Levels of Measurement are important for what types of statistics can be calculated and how to best present the data.\n",
    "\n",
    "Nominal Level: example, in a survey asking for your gender, ‘male’ and ‘female’ are nominal data.\n",
    "\n",
    "Ordinal Level: example, in a survey asking for your satisfaction level, responses like ‘very unsatisfied’, ‘unsatisfied’, ‘neutral’, ‘satisfied’, and ‘very satisfied’ are ordinal data.\n",
    "\n",
    "Interval Level: example is temperature in Celsius or Fahrenheit.\n",
    "\n",
    "Ratio Level: examples include age, height, or weight."
   ]
  },
  {
   "cell_type": "code",
   "execution_count": null,
   "id": "d6dc4e75-56b7-43ab-95b2-a10f370fb748",
   "metadata": {},
   "outputs": [],
   "source": []
  },
  {
   "cell_type": "markdown",
   "id": "985e5b4c-4df5-4cda-808d-c8384ffe36f8",
   "metadata": {},
   "source": [
    "Q7. How nominal data type is different from ordinal data type."
   ]
  },
  {
   "cell_type": "markdown",
   "id": "c072e804-25bd-4675-91df-ad56a9ea660e",
   "metadata": {},
   "source": [
    "Ans: Nominal data type can not be ordered.\n",
    "\n",
    "Ordinal data type can be ordered, but its precise \"distance\" between each is not meaningful."
   ]
  },
  {
   "cell_type": "code",
   "execution_count": null,
   "id": "2640f43a-7149-4f7d-84bf-fcbba28e8a46",
   "metadata": {},
   "outputs": [],
   "source": []
  },
  {
   "cell_type": "markdown",
   "id": "b954a134-cd5f-4e9d-97da-5dcd42a1df0c",
   "metadata": {},
   "source": [
    "Q8. Which type of plot can be used to display data in terms of range?"
   ]
  },
  {
   "cell_type": "markdown",
   "id": "7941e931-4bb9-4c3d-8b2b-73e1fc5a2da7",
   "metadata": {},
   "source": [
    "Ans: A Box Plot can be used to display data in terms of range. It shows the distribution of data based on a five-number summary: minimum, first quartile (Q1), median (Q2), third quartile (Q3), and maximum."
   ]
  },
  {
   "cell_type": "code",
   "execution_count": null,
   "id": "56bbfdd1-9157-47f5-afc1-bc533bc5e15a",
   "metadata": {},
   "outputs": [],
   "source": []
  },
  {
   "cell_type": "markdown",
   "id": "940ce512-f761-4830-a1b3-0ccc9e7d6278",
   "metadata": {},
   "source": [
    "Q9. Describe the difference between descriptive and inferential statistics. Give an example of each type of statistics and explain how they are used."
   ]
  },
  {
   "cell_type": "markdown",
   "id": "3831cebe-7310-4336-bddd-a0b450f319a8",
   "metadata": {},
   "source": [
    "Ans: Descriptive Statistics:- \n",
    "\n",
    "This branch deals with the presentation and collection of data. It provides a summary of the data set. Measures such as mean, median, mode, standard deviation, range, and quartiles are used in descriptive statistics to describe the main features of a collection of data quantitatively. For example, if you have the scores of 100 students in a math test, you can use descriptive statistics to find out the average score (mean), the score in the middle (median), the score that appears most frequently (mode), and the spread of scores (range or standard deviation).\n",
    "\n",
    "Inferential Statistics:- \n",
    "\n",
    "This branch uses a random sample of data taken from a population to describe and make inferences about the population. Inferential statistics are valuable when examination of each member of an entire population is not convenient or possible. For example, if you want to know the average height of people in your city, it’s not feasible to measure everyone’s height. Instead, you can measure the heights of a random sample of individuals and use inferential statistics to estimate the average height of all people in your city."
   ]
  },
  {
   "cell_type": "code",
   "execution_count": null,
   "id": "46b6eeec-b7e4-4383-a64e-7d79042e82dd",
   "metadata": {},
   "outputs": [],
   "source": []
  },
  {
   "cell_type": "markdown",
   "id": "d0fa9522-8221-443b-9009-62679f314f3e",
   "metadata": {},
   "source": [
    "Q10. What are some common measures of central tendency and variability used in statistics? Explain how each measure can be used to describe a dataset."
   ]
  },
  {
   "cell_type": "markdown",
   "id": "7e445d0f-b3f1-4bd6-adb8-839042dd1e30",
   "metadata": {},
   "source": [
    "Ans:- Measures of Central Tendency:\n",
    "\n",
    "Mean: The mean, often called the average, is calculated by adding up all the numbers in the dataset and then dividing by the count of numbers in the dataset. It gives a central value of the data but can be skewed by outliers.\n",
    "\n",
    "Median: The median is the middle value in a dataset when the numbers are arranged in ascending or descending order. If there is an even number of observations, the median is the average of the two middle numbers. It is less affected by outliers and skewed data.\n",
    "\n",
    "Mode: The mode is the number that appears most frequently in a dataset. A dataset may have one mode, more than one mode, or no mode at all.\n",
    "\n",
    "Measures of Variability:\n",
    "\n",
    "Range: The range is the difference between the highest and lowest values in a dataset. It gives a rough idea of how spread out the values are.\n",
    "\n",
    "Variance: Variance measures how far a set of numbers are spread out from their average value. A variance of zero indicates that all values within a set of numbers are identical.\n",
    "\n",
    "Standard Deviation: Standard deviation is the square root of variance and provides a measure of the spread of a dataset around the mean."
   ]
  },
  {
   "cell_type": "code",
   "execution_count": null,
   "id": "dbc099ef-1f38-4051-87a7-16e8518f6d65",
   "metadata": {},
   "outputs": [],
   "source": []
  }
 ],
 "metadata": {
  "kernelspec": {
   "display_name": "Python 3 (ipykernel)",
   "language": "python",
   "name": "python3"
  },
  "language_info": {
   "codemirror_mode": {
    "name": "ipython",
    "version": 3
   },
   "file_extension": ".py",
   "mimetype": "text/x-python",
   "name": "python",
   "nbconvert_exporter": "python",
   "pygments_lexer": "ipython3",
   "version": "3.10.8"
  }
 },
 "nbformat": 4,
 "nbformat_minor": 5
}
