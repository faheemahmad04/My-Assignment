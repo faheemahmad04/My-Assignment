{
 "cells": [
  {
   "cell_type": "markdown",
   "id": "9168b2d0-030b-4f3a-a521-4b45e1e46e57",
   "metadata": {},
   "source": [
    "18 Feb Assignment-17\n",
    "\n",
    "Only Answers are Written:---"
   ]
  },
  {
   "cell_type": "markdown",
   "id": "e3d2f721-1531-44ad-8827-db916bb20e7d",
   "metadata": {},
   "source": [
    "Ans:1\n",
    "\n",
    "An API (Application Programming Interface) is a way for different software applications to communicate with each other.\n",
    "\n",
    "Log in Using XYZ:- The log-in on Facebook/Twitter/Google/Github we can see instead of actually logging-in to user's social media accounts (which would pose a serious security concern), applications with this functionality leverage these platform's APIs to authenticate the user with each login.\n",
    "\n",
    "Pay with XYZ:- Most online stores offer Paypal and other payment methods, utilizing API connections to these services."
   ]
  },
  {
   "cell_type": "markdown",
   "id": "b1f7bad1-f3d0-46f8-b6a2-d24211148b01",
   "metadata": {},
   "source": [
    "Ans:2\n",
    "\n",
    "Advantages of using API:---\n",
    "\n",
    "It allow businesses to streamline their operations by automating processes and reducing manual work.\n",
    "\n",
    "It can help businesses expand into new markets where they can use them for more than just technical concepts.\n",
    "\n",
    "It can help businesses increase revenue by providing new ways to monetize their data.\n",
    "\n",
    "Disadvantages of using API:---\n",
    "\n",
    "As a single point of entry, an API is a gateway and can become a hacker’s primary target. Once the API is compromised, all other applications and systems become vulnerable.\n",
    "\n",
    "When using an API, there is more code up front when writing the app layer."
   ]
  },
  {
   "cell_type": "markdown",
   "id": "353169b9-d6a2-4c1c-bf5a-5681fc9a43d3",
   "metadata": {},
   "source": [
    "Ans:3\n",
    "\n",
    "A Web API is an API for either a web server or a web browser.\n",
    "\n",
    "It is an API over the web which can be accessed using HTTP protocol.\n",
    "\n",
    "It is a concept and not a technology. We can build Web API using different technologies such as Java, .NET etc.\n",
    "\n",
    "Difference:---\n",
    "\n",
    "An API is a software interface that allows two applications to interact with each other without any user involvement. It provides product or service to communicate with other products and services without having to know how they are implemented.\n",
    "\n",
    "A Web API is simply an interface to access server resources over HTTP. It is a concept and not a technology. It use an open-source interface and leverage many client entities."
   ]
  },
  {
   "cell_type": "markdown",
   "id": "842e3073-9bd3-449a-8ac0-586963b35dbc",
   "metadata": {},
   "source": [
    "Ans:4\n",
    "\n",
    "REST stands for Representational State Transfer. It is a software architectural style that was created to guide the design and development of the architecture. It is an architecture style definition applied to networked applications.\n",
    "\n",
    "SOAP stands for Simple Object Access Protocol. It is a network protocol for exchanging structured data between nodes. It uses XML format to transfer messages. It works on top of application layer protocols like HTML and SMTP for notations and transmission.\n",
    "\n",
    "Shortcomings of SOAP:---\n",
    "\n",
    "SOAP is used only XML format data in web service.\n",
    "\n",
    "It is slow because it uses XML format.\n",
    "\n",
    "It does not support caching API calls.\n",
    "\n",
    "It is much more complicated than REST, which can have performance implications."
   ]
  },
  {
   "cell_type": "markdown",
   "id": "d381cd83-0311-43a0-91f9-3ea28db22aa6",
   "metadata": {},
   "source": [
    "Ans:5\n",
    "\n",
    "Some of the differences between REST and SOAP are:---\n",
    "\n",
    "SOAP is a protocol. REST is an architectural style.\n",
    "\n",
    "SOAP uses services interfaces to expose the business logic. REST uses URI to expose business logic.\n",
    "\n",
    "SOAP requires more bandwidth and resource. REST requires less bandwidth and resource.\n",
    "\n",
    "SOAP defines its own security. REST inherits security measures from the underlying transport.\n",
    "\n",
    "SOAP permits XML data format only. REST permits different data format such as Plain text, HTML, XML, JSON etc."
   ]
  },
  {
   "cell_type": "code",
   "execution_count": null,
   "id": "729e8d6e-2416-4bbf-be82-b78c40e96bb8",
   "metadata": {},
   "outputs": [],
   "source": []
  }
 ],
 "metadata": {
  "kernelspec": {
   "display_name": "Python 3 (ipykernel)",
   "language": "python",
   "name": "python3"
  },
  "language_info": {
   "codemirror_mode": {
    "name": "ipython",
    "version": 3
   },
   "file_extension": ".py",
   "mimetype": "text/x-python",
   "name": "python",
   "nbconvert_exporter": "python",
   "pygments_lexer": "ipython3",
   "version": "3.10.8"
  }
 },
 "nbformat": 4,
 "nbformat_minor": 5
}
