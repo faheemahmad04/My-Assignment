{
 "cells": [
  {
   "cell_type": "markdown",
   "id": "2ff7757c-5ef2-44e2-ab7f-918da0910995",
   "metadata": {},
   "source": [
    "7 Feb Assignment-8"
   ]
  },
  {
   "cell_type": "markdown",
   "id": "3cce2e16-62f0-4896-a46c-290b9f02f344",
   "metadata": {},
   "source": [
    "Only answers are written:---"
   ]
  },
  {
   "cell_type": "code",
   "execution_count": 53,
   "id": "1dcf757c-bb90-4b7e-8231-a42170893b21",
   "metadata": {},
   "outputs": [
    {
     "name": "stdin",
     "output_type": "stream",
     "text": [
      "Enter the Password FAHeem@#$%12\n"
     ]
    },
    {
     "data": {
      "text/plain": [
       "'Valid Password'"
      ]
     },
     "execution_count": 53,
     "metadata": {},
     "output_type": "execute_result"
    }
   ],
   "source": [
    "# Ans:1\n",
    "\n",
    "password = input('Enter the Password')\n",
    "def check_password(password):\n",
    "    if len(password) < 10:\n",
    "        return \"Invalid Password\"\n",
    "    elif not any(char.isdigit() for char in password):\n",
    "        return \"Invalid Password\"\n",
    "    elif sum(1 for c in password if c.isupper()) < 2:\n",
    "        return \"Invalid Password\"\n",
    "    elif sum(1 for c in password if c.islower()) < 2:\n",
    "        return \"Invalid Password\"\n",
    "    elif sum(1 for c in password if not c.isalnum()) < 3:\n",
    "        return \"Invalid Password\"\n",
    "    else:\n",
    "        return \"Valid Password\"\n",
    "\n",
    "check_password(password)"
   ]
  },
  {
   "cell_type": "code",
   "execution_count": null,
   "id": "f0c3d879-82eb-44d7-aa3d-54697cf0b979",
   "metadata": {},
   "outputs": [],
   "source": []
  },
  {
   "cell_type": "code",
   "execution_count": 54,
   "id": "808d9cd6-6a08-436b-ae81-c31d29144694",
   "metadata": {},
   "outputs": [
    {
     "name": "stdout",
     "output_type": "stream",
     "text": [
      "True\n"
     ]
    }
   ],
   "source": [
    "# Ans:2\n",
    "\n",
    "# Check if the string starts with a particular letter by using LAMBDA function\n",
    "letter = \"faheem ahmad\"\n",
    "starts_with = lambda x: x.startswith(\"f\")\n",
    "\n",
    "print(starts_with(letter))"
   ]
  },
  {
   "cell_type": "code",
   "execution_count": 55,
   "id": "7860fcec-3e28-4990-a3e6-7944ee513264",
   "metadata": {},
   "outputs": [
    {
     "name": "stdout",
     "output_type": "stream",
     "text": [
      "True\n"
     ]
    }
   ],
   "source": [
    "# Check if the string is numeric by using LAMBDA function\n",
    "string_numeric = \"0\"\n",
    "is_numeric = lambda x: x.isnumeric()\n",
    "\n",
    "print(is_numeric(string_numeric))"
   ]
  },
  {
   "cell_type": "code",
   "execution_count": 56,
   "id": "5442ce13-804a-45f3-bc2e-d447b9701a0f",
   "metadata": {},
   "outputs": [
    {
     "data": {
      "text/plain": [
       "[(80, 'orange'), (99, 'mango'), (1000, 'grapes')]"
      ]
     },
     "execution_count": 56,
     "metadata": {},
     "output_type": "execute_result"
    }
   ],
   "source": [
    "# Sort a list of tuples having fruit names and their quantity. by using LAMBDA function with MAP \n",
    "sorted(map(lambda x: (x[1], x[0]), [(\"mango\",99),(\"orange\",80), (\"grapes\", 1000)]))"
   ]
  },
  {
   "cell_type": "code",
   "execution_count": 57,
   "id": "73097c57-400b-4d76-9e65-e86910bd54db",
   "metadata": {},
   "outputs": [
    {
     "data": {
      "text/plain": [
       "[1, 4, 9, 16, 25, 36, 49, 64, 81, 100]"
      ]
     },
     "execution_count": 57,
     "metadata": {},
     "output_type": "execute_result"
    }
   ],
   "source": [
    "# Find the squares of numbers from 1 to 10 by using LAMBDA function with MAP \n",
    "list(map(lambda x: x**2, range(1,11)))"
   ]
  },
  {
   "cell_type": "code",
   "execution_count": 58,
   "id": "9f9cf2d0-ee72-40de-a987-3e7566d2cd12",
   "metadata": {},
   "outputs": [
    {
     "data": {
      "text/plain": [
       "[1, 8, 27, 64, 125, 216, 343, 512, 729, 1000]"
      ]
     },
     "execution_count": 58,
     "metadata": {},
     "output_type": "execute_result"
    }
   ],
   "source": [
    "# Find the cube root of numbers from 1 to 10 by using COMPREHENSION FUNCTION\n",
    "[i**3 for i in range(1,11)]"
   ]
  },
  {
   "cell_type": "code",
   "execution_count": 59,
   "id": "cc1ac7a3-726a-4706-b131-7d490a6dd3f3",
   "metadata": {},
   "outputs": [
    {
     "data": {
      "text/plain": [
       "[2, 4, 6, 8]"
      ]
     },
     "execution_count": 59,
     "metadata": {},
     "output_type": "execute_result"
    }
   ],
   "source": [
    "# Check if a given number is even by using COMPREHENSION FUNCTION\n",
    "[i for i in range(1,10) if i%2==0]"
   ]
  },
  {
   "cell_type": "code",
   "execution_count": 60,
   "id": "ad3a9c1e-64d4-4898-b816-688daba79414",
   "metadata": {},
   "outputs": [
    {
     "data": {
      "text/plain": [
       "[1, 3, 5, 7, 9]"
      ]
     },
     "execution_count": 60,
     "metadata": {},
     "output_type": "execute_result"
    }
   ],
   "source": [
    "# Filter odd numbers from the given list. by using LAMBDA function with FILTER\n",
    "list(filter(lambda x: x%2 != 0, [1,2,3,4,5,6,7,8,9,10]))"
   ]
  },
  {
   "cell_type": "code",
   "execution_count": 61,
   "id": "36dbb8ce-77a7-417e-871e-f54a78efcb14",
   "metadata": {},
   "outputs": [
    {
     "data": {
      "text/plain": [
       "[1, 2, 3, 4, 5, 6]"
      ]
     },
     "execution_count": 61,
     "metadata": {},
     "output_type": "execute_result"
    }
   ],
   "source": [
    "# Sort a list of integers into positive and negative integers lists. by using LAMBDA function with FILTER\n",
    "list(filter(lambda x: x>0, [1,2,3,4,5,6,-1,-2,-3,-4,-5,0]))"
   ]
  },
  {
   "cell_type": "code",
   "execution_count": 62,
   "id": "deecd7d4-25f9-468d-be8d-6aeee92a6428",
   "metadata": {},
   "outputs": [
    {
     "data": {
      "text/plain": [
       "[-1, -2, -3, -4, -5]"
      ]
     },
     "execution_count": 62,
     "metadata": {},
     "output_type": "execute_result"
    }
   ],
   "source": [
    "list(filter(lambda x: x<0, [1,2,3,4,5,6,-1,-2,-3,-4,-5,0]))"
   ]
  },
  {
   "cell_type": "markdown",
   "id": "90d6b549-5a0a-4c9e-bec5-d3e073529942",
   "metadata": {},
   "source": [
    "End"
   ]
  },
  {
   "cell_type": "code",
   "execution_count": null,
   "id": "4ecc8bec-56c1-45e7-936c-f1010845507e",
   "metadata": {},
   "outputs": [],
   "source": []
  }
 ],
 "metadata": {
  "kernelspec": {
   "display_name": "Python 3 (ipykernel)",
   "language": "python",
   "name": "python3"
  },
  "language_info": {
   "codemirror_mode": {
    "name": "ipython",
    "version": 3
   },
   "file_extension": ".py",
   "mimetype": "text/x-python",
   "name": "python",
   "nbconvert_exporter": "python",
   "pygments_lexer": "ipython3",
   "version": "3.10.8"
  }
 },
 "nbformat": 4,
 "nbformat_minor": 5
}
