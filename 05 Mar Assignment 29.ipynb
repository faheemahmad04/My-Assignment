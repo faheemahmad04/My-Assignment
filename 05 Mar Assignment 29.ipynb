{
 "cells": [
  {
   "cell_type": "markdown",
   "id": "9ef8e823-b4ff-4d3a-be6c-433adcc94ced",
   "metadata": {},
   "source": [
    "05 Mar Assignment 29\n",
    "\n",
    "Both Questions and Answers are written:---"
   ]
  },
  {
   "cell_type": "markdown",
   "id": "c2c115cb-d8dc-4885-9e7d-7cd71201afc9",
   "metadata": {},
   "source": [
    "Q1. How can you create a Bokeh plot using Python code?"
   ]
  },
  {
   "cell_type": "markdown",
   "id": "8b4a13ab-d37e-4bdf-a063-3955a9d2b180",
   "metadata": {},
   "source": [
    "Ans:\n",
    "\n",
    "Following steps are to create bokeh plot:-\n",
    "\n",
    "import bokeh.io\n",
    "import bokeh.plotting\n",
    "bokeh.io.output_notebook() # without using this line we can not render this library on google colab plateform"
   ]
  },
  {
   "cell_type": "code",
   "execution_count": null,
   "id": "efad0df0-4f6d-4a35-84cc-e47355a75cf2",
   "metadata": {},
   "outputs": [],
   "source": []
  },
  {
   "cell_type": "markdown",
   "id": "73eb3be9-0faa-409a-9295-a8d24b65c37c",
   "metadata": {},
   "source": [
    "Q2. What are glyphs in Bokeh, and how can you add them to a Bokeh plot? Explain with an example."
   ]
  },
  {
   "cell_type": "markdown",
   "id": "74008d0b-0a73-453c-8b59-a12afdbd5121",
   "metadata": {},
   "source": [
    "Ans: \n",
    "\n",
    "In Bokeh, glyphs are visual shapes that are drawn to represent the data.\n",
    "\n",
    "To add glyphs to bokeh plot, we can add attributes of the glyphs such as position, size, color, etc."
   ]
  },
  {
   "cell_type": "markdown",
   "id": "cea3acd2-5e22-474b-948d-17b2ab4359f9",
   "metadata": {},
   "source": [
    "Example:---\n",
    "\n",
    "Add a line glyph:-\n",
    "p.line([1, 2, 3, 4, 5], [6, 7, 2, 4, 5], line_width=2)\n",
    "\n",
    "Add a circle glyph:-\n",
    "p.circle([1, 2, 3, 4, 5], [6, 7, 2, 4, 5], size=20, color=\"navy\", alpha=0.5)\n",
    "\n",
    "show(p)"
   ]
  },
  {
   "cell_type": "code",
   "execution_count": null,
   "id": "cfc11135-35be-43a3-974e-235a146a716f",
   "metadata": {},
   "outputs": [],
   "source": []
  },
  {
   "cell_type": "markdown",
   "id": "6430f9f6-4f0d-469a-8e00-56aaccf972f8",
   "metadata": {},
   "source": [
    "Q3. How can you customize the appearance of a Bokeh plot, including the axes, title, and legend?"
   ]
  },
  {
   "cell_type": "markdown",
   "id": "c179dadd-5694-436a-b14e-d6cbe8a70f5c",
   "metadata": {},
   "source": [
    "Ans:\n",
    "\n",
    "to customize the appearence plot:-\n",
    "\n",
    "p = figure(title = 'Line Graph of x and y')\n",
    "\n",
    "p.xaxis.axis_label = 'x-axis'\n",
    "\n",
    "p.yaxis.axis_label = 'y-axis'\n",
    "\n",
    "p.scatter([2.3,4,5,6,7] , [4,5,6,7,8,9] , legend_label = 'Denoted Point')\n",
    "\n",
    "show(p)"
   ]
  },
  {
   "cell_type": "code",
   "execution_count": null,
   "id": "b68c520f-db24-4e41-b6c5-790a02d6a05f",
   "metadata": {},
   "outputs": [],
   "source": []
  },
  {
   "cell_type": "markdown",
   "id": "d5fea8e3-7ff9-415d-ab92-5fee229a3fa0",
   "metadata": {},
   "source": [
    "Q4. What is a Bokeh server, and how can you use it to create interactive plots that can be updated in real time?"
   ]
  },
  {
   "cell_type": "markdown",
   "id": "1a0f871c-fbf4-49e9-bfd3-62cbc21deca8",
   "metadata": {},
   "source": [
    "Ans: \n",
    "\n",
    "The Bokeh server is a component of Bokeh that allows you to build interactive web applications that connect front-end UI events to running Python code. It makes it easy to create interactive web applications that can connect front-end UI events to real, running Python code."
   ]
  },
  {
   "cell_type": "code",
   "execution_count": null,
   "id": "65a8908d-6e54-4137-a81b-0eeb9304b0b2",
   "metadata": {},
   "outputs": [],
   "source": []
  },
  {
   "cell_type": "markdown",
   "id": "095fdb1f-6fa4-4685-b356-dbce27f9fbb0",
   "metadata": {},
   "source": [
    "Q5. How can you embed a Bokeh plot into a web page or dashboard using Flask or Django?"
   ]
  },
  {
   "cell_type": "markdown",
   "id": "97714429-6492-4b5c-a1db-b316ed59240c",
   "metadata": {},
   "source": [
    "not able to understand this question."
   ]
  },
  {
   "cell_type": "code",
   "execution_count": null,
   "id": "9eeef7c6-e686-4e9a-b71a-7794f860d631",
   "metadata": {},
   "outputs": [],
   "source": []
  }
 ],
 "metadata": {
  "kernelspec": {
   "display_name": "Python 3 (ipykernel)",
   "language": "python",
   "name": "python3"
  },
  "language_info": {
   "codemirror_mode": {
    "name": "ipython",
    "version": 3
   },
   "file_extension": ".py",
   "mimetype": "text/x-python",
   "name": "python",
   "nbconvert_exporter": "python",
   "pygments_lexer": "ipython3",
   "version": "3.10.8"
  }
 },
 "nbformat": 4,
 "nbformat_minor": 5
}
