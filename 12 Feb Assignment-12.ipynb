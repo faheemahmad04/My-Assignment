{
 "cells": [
  {
   "cell_type": "markdown",
   "id": "152b3539-3867-4d50-b3f1-ae98936ca3dd",
   "metadata": {},
   "source": [
    "12 Feb Assignment-12\n",
    "\n",
    "Only Answers are written:---"
   ]
  },
  {
   "cell_type": "markdown",
   "id": "fcb11e22-98a0-4e7e-8067-5a2a03f5b12e",
   "metadata": {},
   "source": [
    "Ans:1\n",
    "\n",
    "An Exception is a python object that represents an error. It raised when a pythoin script encounters a situation that it cannot cope with.\n",
    "\n",
    "Exceptions are the problems that change the normal flow of program. It occur when some internal events happen which the program cannot cope with.\n",
    "\n",
    "Syntax Errors are the problems due to which programs stops the execution. It occur when the proper syntax of the language is not followed."
   ]
  },
  {
   "cell_type": "markdown",
   "id": "4d7ccaf6-5d94-4504-9069-d0c8d637be9a",
   "metadata": {},
   "source": [
    "Ans:2\n",
    "\n",
    "When an exception is not handled, it give an error message and the program suddenly crashes. The error message shows the type of exception at the line number where it occured and a Traceback of the call stack."
   ]
  },
  {
   "cell_type": "code",
   "execution_count": 1,
   "id": "511c3592-9f8b-4dd4-876d-e56270bc4e24",
   "metadata": {},
   "outputs": [
    {
     "ename": "ZeroDivisionError",
     "evalue": "division by zero",
     "output_type": "error",
     "traceback": [
      "\u001b[0;31m---------------------------------------------------------------------------\u001b[0m",
      "\u001b[0;31mZeroDivisionError\u001b[0m                         Traceback (most recent call last)",
      "Cell \u001b[0;32mIn[1], line 3\u001b[0m\n\u001b[1;32m      1\u001b[0m \u001b[38;5;66;03m# Example:---\u001b[39;00m\n\u001b[0;32m----> 3\u001b[0m result \u001b[38;5;241m=\u001b[39m \u001b[38;5;241;43m10\u001b[39;49m\u001b[38;5;241;43m/\u001b[39;49m\u001b[38;5;241;43m0\u001b[39;49m\n\u001b[1;32m      4\u001b[0m \u001b[38;5;28mprint\u001b[39m(result)\n",
      "\u001b[0;31mZeroDivisionError\u001b[0m: division by zero"
     ]
    }
   ],
   "source": [
    "# Example:---\n",
    "\n",
    "result = 10/0\n",
    "print(result)"
   ]
  },
  {
   "cell_type": "markdown",
   "id": "04cc5a6b-e55a-4e16-addb-2e460ad01cf1",
   "metadata": {},
   "source": [
    "here a ZeroDivisionError exception raised at line number 3."
   ]
  },
  {
   "cell_type": "markdown",
   "id": "793bd2eb-98b2-45e8-8caf-bb8882267a5c",
   "metadata": {},
   "source": [
    "Ans:3\n",
    "\n",
    "try, except and finally are used to catch and handle exception.\n",
    "\n",
    "try:- If an exception raised in this block, execution of this block will stopped and the except block will execute.\n",
    "\n",
    "except:- If there is no exception raised in try block, program will execute smoothly without touching except block.\n",
    "\n",
    "finally:- If an exception raised or not, anyway this block will execute."
   ]
  },
  {
   "cell_type": "code",
   "execution_count": 2,
   "id": "8e67aa69-a78f-4e7b-b4bd-d7e9d15a08fd",
   "metadata": {},
   "outputs": [
    {
     "name": "stdout",
     "output_type": "stream",
     "text": [
      "I want to become a Data Scientist.\n",
      "The file is closed.\n"
     ]
    }
   ],
   "source": [
    "# Example:---\n",
    "\n",
    "try:\n",
    "    file = open(\"Text_File.txt\", \"r\")\n",
    "    content = file.read()\n",
    "    print(content)\n",
    "    \n",
    "except:\n",
    "    print(\"The file does not exist.\")\n",
    "\n",
    "finally:\n",
    "    file.close()\n",
    "    print(\"The file is closed.\")\n"
   ]
  },
  {
   "cell_type": "markdown",
   "id": "932acb5f-5fbc-4c34-9877-667722100926",
   "metadata": {},
   "source": [
    "Ans:4\n",
    "\n",
    "a :---\n",
    "try:- If an exception raised in this block, execution of this block will stopped and the except block will execute.\n",
    "\n",
    "else:- We can use this block to execute some code if no exception occurs in try block. This block execute after try block and before finally block.\n",
    "\n",
    "\n",
    "b :---\n",
    "finally:- If an exception raised or not, anyway this block will execute. This block always execute after try, except and else blocks.\n",
    "\n",
    "\n",
    "c :---\n",
    "raise:- We can use a raise statement to trigger an exception manually by using custom exceptions or built-in exceptions. We can also re-raise an exception that was caught by an except block using raise without any argument."
   ]
  },
  {
   "cell_type": "markdown",
   "id": "b255680a-5086-4c1d-a4a1-f5da39f5459a",
   "metadata": {},
   "source": [
    "Ans:5\n",
    "\n",
    "Custom Exceptions are used-defined exceptions that are derived from built-in exception class or its sub-classes. We need Custom Exceptions to handle specific errors and situations that are not covered by the Standard Exceptions. Custom Exception can also provide more meaningful messages and informations about the error."
   ]
  },
  {
   "cell_type": "code",
   "execution_count": 10,
   "id": "ed388704-fbc3-4323-988b-b650faa61429",
   "metadata": {},
   "outputs": [
    {
     "name": "stdin",
     "output_type": "stream",
     "text": [
      "enter 250\n"
     ]
    },
    {
     "name": "stdout",
     "output_type": "stream",
     "text": [
      "Invalid temperature: 250°F\n"
     ]
    }
   ],
   "source": [
    "# Example:---\n",
    "\n",
    "# Define a custom exception class for invalid temperature\n",
    "class InvalidTemperatureError(Exception):\n",
    "    def __init__(self, message):\n",
    "        super().__init__(message)\n",
    "\n",
    "# Define a method that converts Fahrenheit to Celsius\n",
    "def fahrenheit_to_celsius(f):\n",
    "    if f < 32 or f > 212:\n",
    "        raise InvalidTemperatureError(\"Invalid temperature: {}°F\".format(f))\n",
    "    else:\n",
    "        return (f - 32) * 5 / 9\n",
    "\n",
    "# Try to call the method with an invalid argument\n",
    "try:\n",
    "    result = fahrenheit_to_celsius(int(input(\"enter\")))\n",
    "    print(result)\n",
    "except InvalidTemperatureError as e:\n",
    "    print(e)\n"
   ]
  },
  {
   "cell_type": "code",
   "execution_count": 14,
   "id": "b2d2ed4e-4585-4391-900a-036dea95cb00",
   "metadata": {},
   "outputs": [
    {
     "name": "stdout",
     "output_type": "stream",
     "text": [
      "Cannot divide by zero\n"
     ]
    }
   ],
   "source": [
    "# Ans:6\n",
    "\n",
    "# Create a custom exception class for division by zero\n",
    "class DivisionByZeroError(Exception):\n",
    "    def __init__(self, message):\n",
    "        super().__init__(message)\n",
    "\n",
    "# Define a method that performs division\n",
    "def divide(a, b):\n",
    "    if b == 0:\n",
    "        raise DivisionByZeroError(\"Cannot divide by zero\")\n",
    "    else:\n",
    "        return a / b\n",
    "\n",
    "# Try to call the method with a zero divisor\n",
    "try:\n",
    "    result = divide(10, 0)\n",
    "    print(result)\n",
    "except DivisionByZeroError as e:\n",
    "    print(e)\n"
   ]
  },
  {
   "cell_type": "code",
   "execution_count": null,
   "id": "17bc4b10-68bf-4211-879e-12a928f2aacd",
   "metadata": {},
   "outputs": [],
   "source": []
  }
 ],
 "metadata": {
  "kernelspec": {
   "display_name": "Python 3 (ipykernel)",
   "language": "python",
   "name": "python3"
  },
  "language_info": {
   "codemirror_mode": {
    "name": "ipython",
    "version": 3
   },
   "file_extension": ".py",
   "mimetype": "text/x-python",
   "name": "python",
   "nbconvert_exporter": "python",
   "pygments_lexer": "ipython3",
   "version": "3.10.8"
  }
 },
 "nbformat": 4,
 "nbformat_minor": 5
}
